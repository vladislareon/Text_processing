{
 "cells": [
  {
   "cell_type": "code",
   "execution_count": 3,
   "metadata": {
    "id": "U4Gc4Go5XHaN"
   },
   "outputs": [],
   "source": [
    "PATH_TO_TRAIN_DATA = 'train.csv'\n",
    "PATH_TO_TEST_DATA = 'test.csv'"
   ]
  },
  {
   "cell_type": "code",
   "execution_count": 4,
   "metadata": {
    "colab": {
     "base_uri": "https://localhost:8080/",
     "height": 112
    },
    "id": "6kJRM6ZUXHaO",
    "outputId": "2f738438-681f-44c2-a86f-d0dbe292ef8e"
   },
   "outputs": [],
   "source": [
    "import pandas as pd\n",
    "import numpy as np\n",
    "df = pd.read_csv(PATH_TO_TRAIN_DATA)"
   ]
  },
  {
   "cell_type": "code",
   "execution_count": null,
   "metadata": {},
   "outputs": [],
   "source": [
    "alltest = pd.read_csv(PATH_TO_TEST_DATA)"
   ]
  },
  {
   "cell_type": "code",
   "execution_count": 8,
   "metadata": {
    "colab": {
     "base_uri": "https://localhost:8080/"
    },
    "id": "tv-gbEKGXHaQ",
    "outputId": "bba63ed9-6efb-4ade-ad65-febdcadda745"
   },
   "outputs": [
    {
     "name": "stderr",
     "output_type": "stream",
     "text": [
      "[nltk_data] Downloading package punkt to\n",
      "[nltk_data]     C:\\Users\\vladi\\AppData\\Roaming\\nltk_data...\n",
      "[nltk_data]   Package punkt is already up-to-date!\n"
     ]
    }
   ],
   "source": [
    "import string\n",
    "\n",
    "import nltk\n",
    "nltk.download('punkt')\n",
    "\n",
    "from nltk.tokenize import word_tokenize\n",
    "\n",
    "def process_text(text):\n",
    "    return [word for word in word_tokenize(text.lower()) if word not in string.punctuation]"
   ]
  },
  {
   "cell_type": "code",
   "execution_count": 9,
   "metadata": {
    "id": "-X1bXhROXHaQ"
   },
   "outputs": [],
   "source": [
    "df['negative'] = df['negative'].apply(process_text)\n",
    "df['positive'] = df['positive'].apply(process_text)"
   ]
  },
  {
   "cell_type": "code",
   "execution_count": 10,
   "metadata": {
    "id": "hz7HqHLDPsCf"
   },
   "outputs": [],
   "source": [
    "alltest['negative'] = alltest['negative'].apply(process_text)\n",
    "alltest['positive'] = alltest['positive'].apply(process_text)"
   ]
  },
  {
   "cell_type": "code",
   "execution_count": 11,
   "metadata": {
    "id": "IJ_2b-E6PsCg"
   },
   "outputs": [],
   "source": [
    "def sent(x):\n",
    "    return str(x).replace('[', '').replace(']', '').replace(', ', ' ').replace(\"'\", '')"
   ]
  },
  {
   "cell_type": "code",
   "execution_count": 12,
   "metadata": {
    "id": "MewBIvp9XHaQ"
   },
   "outputs": [],
   "source": [
    "from sklearn.model_selection import train_test_split\n",
    "\n",
    "df_train, df_test = train_test_split(df, random_state=1412)"
   ]
  },
  {
   "cell_type": "markdown",
   "metadata": {},
   "source": [
    "# Transformer:"
   ]
  },
  {
   "cell_type": "code",
   "execution_count": null,
   "metadata": {
    "id": "89Y9wsViXHaU"
   },
   "outputs": [],
   "source": [
    "import torch\n",
    "from torch import nn\n",
    "from torch.nn import functional as F\n",
    "import transformers as ts\n",
    "import datasets\n",
    "from datasets import Dataset"
   ]
  },
  {
   "cell_type": "code",
   "execution_count": null,
   "metadata": {
    "id": "DqQOz6qxnWWk"
   },
   "outputs": [],
   "source": [
    "def get_target(df):\n",
    "    return df[['positive', 'negative']], df['score']\n",
    "x_test_all = alltest[['positive', 'negative']]"
   ]
  },
  {
   "cell_type": "code",
   "execution_count": null,
   "metadata": {
    "id": "dwzGwfW9PsDC"
   },
   "outputs": [],
   "source": [
    "x_test_all= x_test_all['positive'] + x_test_all['negative']"
   ]
  },
  {
   "cell_type": "code",
   "execution_count": null,
   "metadata": {
    "id": "RFqbZDpBng_e"
   },
   "outputs": [],
   "source": [
    "df_train_all, df_val = train_test_split(df, random_state=1412, test_size = 0.01)"
   ]
  },
  {
   "cell_type": "code",
   "execution_count": null,
   "metadata": {
    "id": "vlIMbjsnkkaI"
   },
   "outputs": [],
   "source": [
    "x_train_all, y_train_all = get_target(df_train_all)"
   ]
  },
  {
   "cell_type": "code",
   "execution_count": null,
   "metadata": {
    "id": "Ha640h61kaSI"
   },
   "outputs": [],
   "source": [
    "x_train_all = x_train_all['positive'] + x_train_all['negative']"
   ]
  },
  {
   "cell_type": "code",
   "execution_count": null,
   "metadata": {
    "id": "tJ-fPqfrnq3I"
   },
   "outputs": [],
   "source": [
    "x_val, y_val = get_target(df_val)"
   ]
  },
  {
   "cell_type": "code",
   "execution_count": null,
   "metadata": {
    "id": "X0ke0cUsn0Bg"
   },
   "outputs": [],
   "source": [
    "x_val= x_val['positive'] + x_val['negative']"
   ]
  },
  {
   "cell_type": "code",
   "execution_count": null,
   "metadata": {
    "id": "oGDd8p8zPsDD"
   },
   "outputs": [],
   "source": [
    "import pyarrow as pa"
   ]
  },
  {
   "cell_type": "code",
   "execution_count": null,
   "metadata": {
    "colab": {
     "base_uri": "https://localhost:8080/"
    },
    "id": "5VPFb6_2PsDD",
    "outputId": "a94b660e-1d9a-42d9-a46b-365e599be820"
   },
   "outputs": [
    {
     "data": {
      "text/plain": [
       "Dataset({\n",
       "    features: ['sentence', 'label'],\n",
       "    num_rows: 99000\n",
       "})"
      ]
     },
     "execution_count": 74,
     "metadata": {},
     "output_type": "execute_result"
    }
   ],
   "source": [
    "dataset_train = {}\n",
    "dataset_train['sentence'] = x_train_all.apply(sent)\n",
    "dataset_train['label'] = ((y_train_all - 1) * 10).astype(int)\n",
    "dataset_train = Dataset(pa.Table.from_pydict(dataset_train))\n",
    "dataset_train"
   ]
  },
  {
   "cell_type": "code",
   "execution_count": null,
   "metadata": {
    "colab": {
     "base_uri": "https://localhost:8080/"
    },
    "id": "H1AmjP7EoLxB",
    "outputId": "47ab4179-5558-48a2-ecf7-ea74b9248f0e"
   },
   "outputs": [
    {
     "data": {
      "text/plain": [
       "Dataset({\n",
       "    features: ['sentence', 'label'],\n",
       "    num_rows: 1000\n",
       "})"
      ]
     },
     "execution_count": 75,
     "metadata": {},
     "output_type": "execute_result"
    }
   ],
   "source": [
    "dataset_val = {}\n",
    "dataset_val['sentence'] = x_val.apply(sent)\n",
    "dataset_val['label'] = ((y_val - 1) * 10).astype(int)\n",
    "dataset_val = Dataset(pa.Table.from_pydict(dataset_val))\n",
    "dataset_val"
   ]
  },
  {
   "cell_type": "code",
   "execution_count": null,
   "metadata": {
    "colab": {
     "base_uri": "https://localhost:8080/"
    },
    "id": "VeJFJfbDPsDE",
    "outputId": "a19b30d3-64d5-433c-866a-4387334b1f09"
   },
   "outputs": [
    {
     "data": {
      "text/plain": [
       "Dataset({\n",
       "    features: ['sentence'],\n",
       "    num_rows: 20000\n",
       "})"
      ]
     },
     "execution_count": 53,
     "metadata": {},
     "output_type": "execute_result"
    }
   ],
   "source": [
    "dataset_test = {}\n",
    "dataset_test['sentence'] = x_test_all.apply(sent)\n",
    "dataset_test = Dataset(pa.Table.from_pydict(dataset_test))\n",
    "dataset_test"
   ]
  },
  {
   "cell_type": "code",
   "execution_count": null,
   "metadata": {
    "colab": {
     "base_uri": "https://localhost:8080/"
    },
    "id": "DP3EMNeaPsDE",
    "outputId": "cb7079f8-8d20-471a-d0da-fdb0c6bb7a8d"
   },
   "outputs": [
    {
     "name": "stderr",
     "output_type": "stream",
     "text": [
      "loading configuration file https://huggingface.co/distilbert-base-uncased/resolve/main/config.json from cache at tmp1/23454919702d26495337f3da04d1655c7ee010d5ec9d77bdb9e399e00302c0a1.91b885ab15d631bf9cee9dc9d25ece0afd932f2f5130eba28f2055b2220c0333\n",
      "Model config DistilBertConfig {\n",
      "  \"_name_or_path\": \"distilbert-base-uncased\",\n",
      "  \"activation\": \"gelu\",\n",
      "  \"architectures\": [\n",
      "    \"DistilBertForMaskedLM\"\n",
      "  ],\n",
      "  \"attention_dropout\": 0.1,\n",
      "  \"dim\": 768,\n",
      "  \"dropout\": 0.1,\n",
      "  \"hidden_dim\": 3072,\n",
      "  \"initializer_range\": 0.02,\n",
      "  \"max_position_embeddings\": 512,\n",
      "  \"model_type\": \"distilbert\",\n",
      "  \"n_heads\": 12,\n",
      "  \"n_layers\": 6,\n",
      "  \"pad_token_id\": 0,\n",
      "  \"qa_dropout\": 0.1,\n",
      "  \"seq_classif_dropout\": 0.2,\n",
      "  \"sinusoidal_pos_embds\": false,\n",
      "  \"tie_weights_\": true,\n",
      "  \"transformers_version\": \"4.16.2\",\n",
      "  \"vocab_size\": 30522\n",
      "}\n",
      "\n",
      "loading file https://huggingface.co/distilbert-base-uncased/resolve/main/vocab.txt from cache at tmp1/0e1bbfda7f63a99bb52e3915dcf10c3c92122b827d92eb2d34ce94ee79ba486c.d789d64ebfe299b0e416afc4a169632f903f693095b4629a7ea271d5a0cf2c99\n",
      "loading file https://huggingface.co/distilbert-base-uncased/resolve/main/tokenizer.json from cache at tmp1/75abb59d7a06f4f640158a9bfcde005264e59e8d566781ab1415b139d2e4c603.7f2721073f19841be16f41b0a70b600ca6b880c8f3df6f3535cbc704371bdfa4\n",
      "loading file https://huggingface.co/distilbert-base-uncased/resolve/main/added_tokens.json from cache at None\n",
      "loading file https://huggingface.co/distilbert-base-uncased/resolve/main/special_tokens_map.json from cache at None\n",
      "loading file https://huggingface.co/distilbert-base-uncased/resolve/main/tokenizer_config.json from cache at tmp1/8c8624b8ac8aa99c60c912161f8332de003484428c47906d7ff7eb7f73eecdbb.20430bd8e10ef77a7d2977accefe796051e01bc2fc4aa146bc862997a1a15e79\n",
      "loading configuration file https://huggingface.co/distilbert-base-uncased/resolve/main/config.json from cache at tmp1/23454919702d26495337f3da04d1655c7ee010d5ec9d77bdb9e399e00302c0a1.91b885ab15d631bf9cee9dc9d25ece0afd932f2f5130eba28f2055b2220c0333\n",
      "Model config DistilBertConfig {\n",
      "  \"_name_or_path\": \"distilbert-base-uncased\",\n",
      "  \"activation\": \"gelu\",\n",
      "  \"architectures\": [\n",
      "    \"DistilBertForMaskedLM\"\n",
      "  ],\n",
      "  \"attention_dropout\": 0.1,\n",
      "  \"dim\": 768,\n",
      "  \"dropout\": 0.1,\n",
      "  \"hidden_dim\": 3072,\n",
      "  \"initializer_range\": 0.02,\n",
      "  \"max_position_embeddings\": 512,\n",
      "  \"model_type\": \"distilbert\",\n",
      "  \"n_heads\": 12,\n",
      "  \"n_layers\": 6,\n",
      "  \"pad_token_id\": 0,\n",
      "  \"qa_dropout\": 0.1,\n",
      "  \"seq_classif_dropout\": 0.2,\n",
      "  \"sinusoidal_pos_embds\": false,\n",
      "  \"tie_weights_\": true,\n",
      "  \"transformers_version\": \"4.16.2\",\n",
      "  \"vocab_size\": 30522\n",
      "}\n",
      "\n"
     ]
    },
    {
     "data": {
      "text/plain": [
       "PreTrainedTokenizerFast(name_or_path='distilbert-base-uncased', vocab_size=30522, model_max_len=512, is_fast=True, padding_side='right', truncation_side='right', special_tokens={'unk_token': '[UNK]', 'sep_token': '[SEP]', 'pad_token': '[PAD]', 'cls_token': '[CLS]', 'mask_token': '[MASK]'})"
      ]
     },
     "execution_count": 86,
     "metadata": {},
     "output_type": "execute_result"
    }
   ],
   "source": [
    "tokenizer = ts.AutoTokenizer.from_pretrained('distilbert-base-uncased', cache_dir='tmp1')\n",
    "tokenizer"
   ]
  },
  {
   "cell_type": "code",
   "execution_count": null,
   "metadata": {
    "colab": {
     "base_uri": "https://localhost:8080/",
     "height": 81,
     "referenced_widgets": [
      "c2e64be2d24b4cd99e51ad687d6988ae",
      "42c28b97c1b448059c90a1e02facaee7",
      "b6e38dd77aec4d1ba8eb8e0cc266ebcb",
      "ebce7cdb711f41938f44615710ca4f4c",
      "94abb61e010d4a77823e3d3f42462da5",
      "bb4a3485fdfd4da4b8577f9ccd74ba8c",
      "4f2d0f4874a14eba97dd3333785c92c0",
      "26b41833a44b49c8af2ea95b40c1eade",
      "46fb8e9c516c417ea23a5877cee5826c",
      "3b106b13609140348b3a6116f6f05afb",
      "11983cfea3db475dac488ee00cca274b",
      "c2e19bde01fc48eda92883d3374869da",
      "81af08ea2e4f46aa98ea349508e5f29a",
      "9a25fdac598d42b7bc25e12fcd272ec7",
      "b448f090741140dd9ce9377e83a8a9ff",
      "45becdd1d4b94b728fddadf5ea10be75",
      "03659db4e020431a9d655f0186cb3d4f",
      "8a0b9940572543368576020a55468bbe",
      "fdf57e5c41fc462592c6dd90e2449e52",
      "ff1ec15d2b3e4333861f31224de6f2b1",
      "9d9caac911b7458696e16cfa68d8e8ce",
      "e7b5fd96575e4660aa43ef25682fdcc4"
     ]
    },
    "id": "OwBGkmH6PsDE",
    "outputId": "37a2f8bb-a77a-4ce6-9143-0e934bdd13d8",
    "scrolled": true
   },
   "outputs": [
    {
     "data": {
      "application/vnd.jupyter.widget-view+json": {
       "model_id": "c2e64be2d24b4cd99e51ad687d6988ae",
       "version_major": 2,
       "version_minor": 0
      },
      "text/plain": [
       "0ex [00:00, ?ex/s]"
      ]
     },
     "metadata": {},
     "output_type": "display_data"
    },
    {
     "data": {
      "application/vnd.jupyter.widget-view+json": {
       "model_id": "c2e19bde01fc48eda92883d3374869da",
       "version_major": 2,
       "version_minor": 0
      },
      "text/plain": [
       "0ex [00:00, ?ex/s]"
      ]
     },
     "metadata": {},
     "output_type": "display_data"
    }
   ],
   "source": [
    "def tokenizing_fn(instance):\n",
    "    return tokenizer(instance['sentence'], truncation=True)\n",
    "\n",
    "tokenized_test = dataset_test.map(tokenizing_fn)\n",
    "tokenized_train = dataset_train.map(tokenizing_fn)\n",
    "tokenized_val= dataset_val.map(tokenizing_fn)"
   ]
  },
  {
   "cell_type": "code",
   "execution_count": null,
   "metadata": {
    "colab": {
     "base_uri": "https://localhost:8080/"
    },
    "id": "l7nPqEtRPsDF",
    "outputId": "72028484-39fe-4a7d-b80c-7a6bdcb7fe0e"
   },
   "outputs": [
    {
     "data": {
      "text/plain": [
       "Dataset({\n",
       "    features: ['sentence', 'label', 'input_ids', 'attention_mask'],\n",
       "    num_rows: 1000\n",
       "})"
      ]
     },
     "execution_count": 62,
     "metadata": {},
     "output_type": "execute_result"
    }
   ],
   "source": [
    "tokenized_val"
   ]
  },
  {
   "cell_type": "code",
   "execution_count": null,
   "metadata": {
    "colab": {
     "base_uri": "https://localhost:8080/"
    },
    "id": "Lt4BoU8oPsDG",
    "outputId": "1fcf3c6a-be68-40af-86e5-71eb7f058de1"
   },
   "outputs": [
    {
     "data": {
      "text/plain": [
       "Dataset({\n",
       "    features: ['input_ids', 'attention_mask'],\n",
       "    num_rows: 20000\n",
       "})"
      ]
     },
     "execution_count": 63,
     "metadata": {},
     "output_type": "execute_result"
    }
   ],
   "source": [
    "tokenized_train = tokenized_train.remove_columns(['sentence'])\n",
    "tokenized_test = tokenized_test.remove_columns(['sentence'])\n",
    "tokenized_val = tokenized_val.remove_columns(['sentence'])\n",
    "tokenized_test"
   ]
  },
  {
   "cell_type": "code",
   "execution_count": null,
   "metadata": {
    "colab": {
     "base_uri": "https://localhost:8080/"
    },
    "id": "zmzlzulaPsDG",
    "outputId": "2c2377bf-36a9-4683-bd6c-382fc8a71434"
   },
   "outputs": [
    {
     "data": {
      "text/plain": [
       "DataCollatorWithPadding(tokenizer=PreTrainedTokenizerFast(name_or_path='distilbert-base-uncased', vocab_size=30522, model_max_len=512, is_fast=True, padding_side='right', truncation_side='right', special_tokens={'unk_token': '[UNK]', 'sep_token': '[SEP]', 'pad_token': '[PAD]', 'cls_token': '[CLS]', 'mask_token': '[MASK]'}), padding=True, max_length=None, pad_to_multiple_of=None, return_tensors='pt')"
      ]
     },
     "execution_count": 64,
     "metadata": {},
     "output_type": "execute_result"
    }
   ],
   "source": [
    "accuracy_metric = datasets.load_metric('accuracy', cache_dir='tmp/acc_metrics')\n",
    "data_collator = ts.DataCollatorWithPadding(tokenizer = tokenizer)\n",
    "data_collator"
   ]
  },
  {
   "cell_type": "code",
   "execution_count": null,
   "metadata": {
    "id": "VY5p7dLMPsDH"
   },
   "outputs": [],
   "source": [
    "def compute_metrics(outputs):\n",
    "    logits, labels = outputs\n",
    "    preds = logits.argmax(1)\n",
    "\n",
    "    metrics_dict = accuracy_metric.compute(\n",
    "        references=labels, predictions=preds)\n",
    "\n",
    "    return metrics_dict"
   ]
  },
  {
   "cell_type": "code",
   "execution_count": null,
   "metadata": {
    "colab": {
     "base_uri": "https://localhost:8080/"
    },
    "id": "2-iynbJQPsDH",
    "outputId": "45fd5085-e509-4ea3-ede9-273788f592b0"
   },
   "outputs": [
    {
     "name": "stderr",
     "output_type": "stream",
     "text": [
      "loading configuration file https://huggingface.co/distilbert-base-uncased/resolve/main/config.json from cache at tmp/model/23454919702d26495337f3da04d1655c7ee010d5ec9d77bdb9e399e00302c0a1.91b885ab15d631bf9cee9dc9d25ece0afd932f2f5130eba28f2055b2220c0333\n",
      "Model config DistilBertConfig {\n",
      "  \"_name_or_path\": \"distilbert-base-uncased\",\n",
      "  \"activation\": \"gelu\",\n",
      "  \"architectures\": [\n",
      "    \"DistilBertForMaskedLM\"\n",
      "  ],\n",
      "  \"attention_dropout\": 0.1,\n",
      "  \"dim\": 768,\n",
      "  \"dropout\": 0.1,\n",
      "  \"hidden_dim\": 3072,\n",
      "  \"id2label\": {\n",
      "    \"0\": \"LABEL_0\",\n",
      "    \"1\": \"LABEL_1\",\n",
      "    \"2\": \"LABEL_2\",\n",
      "    \"3\": \"LABEL_3\",\n",
      "    \"4\": \"LABEL_4\",\n",
      "    \"5\": \"LABEL_5\",\n",
      "    \"6\": \"LABEL_6\",\n",
      "    \"7\": \"LABEL_7\",\n",
      "    \"8\": \"LABEL_8\",\n",
      "    \"9\": \"LABEL_9\",\n",
      "    \"10\": \"LABEL_10\",\n",
      "    \"11\": \"LABEL_11\",\n",
      "    \"12\": \"LABEL_12\",\n",
      "    \"13\": \"LABEL_13\",\n",
      "    \"14\": \"LABEL_14\",\n",
      "    \"15\": \"LABEL_15\",\n",
      "    \"16\": \"LABEL_16\",\n",
      "    \"17\": \"LABEL_17\",\n",
      "    \"18\": \"LABEL_18\",\n",
      "    \"19\": \"LABEL_19\",\n",
      "    \"20\": \"LABEL_20\",\n",
      "    \"21\": \"LABEL_21\",\n",
      "    \"22\": \"LABEL_22\",\n",
      "    \"23\": \"LABEL_23\",\n",
      "    \"24\": \"LABEL_24\",\n",
      "    \"25\": \"LABEL_25\",\n",
      "    \"26\": \"LABEL_26\",\n",
      "    \"27\": \"LABEL_27\",\n",
      "    \"28\": \"LABEL_28\",\n",
      "    \"29\": \"LABEL_29\",\n",
      "    \"30\": \"LABEL_30\",\n",
      "    \"31\": \"LABEL_31\",\n",
      "    \"32\": \"LABEL_32\",\n",
      "    \"33\": \"LABEL_33\",\n",
      "    \"34\": \"LABEL_34\",\n",
      "    \"35\": \"LABEL_35\",\n",
      "    \"36\": \"LABEL_36\",\n",
      "    \"37\": \"LABEL_37\",\n",
      "    \"38\": \"LABEL_38\",\n",
      "    \"39\": \"LABEL_39\",\n",
      "    \"40\": \"LABEL_40\",\n",
      "    \"41\": \"LABEL_41\",\n",
      "    \"42\": \"LABEL_42\",\n",
      "    \"43\": \"LABEL_43\",\n",
      "    \"44\": \"LABEL_44\",\n",
      "    \"45\": \"LABEL_45\",\n",
      "    \"46\": \"LABEL_46\",\n",
      "    \"47\": \"LABEL_47\",\n",
      "    \"48\": \"LABEL_48\",\n",
      "    \"49\": \"LABEL_49\",\n",
      "    \"50\": \"LABEL_50\",\n",
      "    \"51\": \"LABEL_51\",\n",
      "    \"52\": \"LABEL_52\",\n",
      "    \"53\": \"LABEL_53\",\n",
      "    \"54\": \"LABEL_54\",\n",
      "    \"55\": \"LABEL_55\",\n",
      "    \"56\": \"LABEL_56\",\n",
      "    \"57\": \"LABEL_57\",\n",
      "    \"58\": \"LABEL_58\",\n",
      "    \"59\": \"LABEL_59\",\n",
      "    \"60\": \"LABEL_60\",\n",
      "    \"61\": \"LABEL_61\",\n",
      "    \"62\": \"LABEL_62\",\n",
      "    \"63\": \"LABEL_63\",\n",
      "    \"64\": \"LABEL_64\",\n",
      "    \"65\": \"LABEL_65\",\n",
      "    \"66\": \"LABEL_66\",\n",
      "    \"67\": \"LABEL_67\",\n",
      "    \"68\": \"LABEL_68\",\n",
      "    \"69\": \"LABEL_69\",\n",
      "    \"70\": \"LABEL_70\",\n",
      "    \"71\": \"LABEL_71\",\n",
      "    \"72\": \"LABEL_72\",\n",
      "    \"73\": \"LABEL_73\",\n",
      "    \"74\": \"LABEL_74\",\n",
      "    \"75\": \"LABEL_75\",\n",
      "    \"76\": \"LABEL_76\",\n",
      "    \"77\": \"LABEL_77\",\n",
      "    \"78\": \"LABEL_78\",\n",
      "    \"79\": \"LABEL_79\",\n",
      "    \"80\": \"LABEL_80\",\n",
      "    \"81\": \"LABEL_81\",\n",
      "    \"82\": \"LABEL_82\",\n",
      "    \"83\": \"LABEL_83\",\n",
      "    \"84\": \"LABEL_84\",\n",
      "    \"85\": \"LABEL_85\",\n",
      "    \"86\": \"LABEL_86\",\n",
      "    \"87\": \"LABEL_87\",\n",
      "    \"88\": \"LABEL_88\",\n",
      "    \"89\": \"LABEL_89\",\n",
      "    \"90\": \"LABEL_90\",\n",
      "    \"91\": \"LABEL_91\",\n",
      "    \"92\": \"LABEL_92\",\n",
      "    \"93\": \"LABEL_93\",\n",
      "    \"94\": \"LABEL_94\",\n",
      "    \"95\": \"LABEL_95\",\n",
      "    \"96\": \"LABEL_96\",\n",
      "    \"97\": \"LABEL_97\",\n",
      "    \"98\": \"LABEL_98\",\n",
      "    \"99\": \"LABEL_99\"\n",
      "  },\n",
      "  \"initializer_range\": 0.02,\n",
      "  \"label2id\": {\n",
      "    \"LABEL_0\": 0,\n",
      "    \"LABEL_1\": 1,\n",
      "    \"LABEL_10\": 10,\n",
      "    \"LABEL_11\": 11,\n",
      "    \"LABEL_12\": 12,\n",
      "    \"LABEL_13\": 13,\n",
      "    \"LABEL_14\": 14,\n",
      "    \"LABEL_15\": 15,\n",
      "    \"LABEL_16\": 16,\n",
      "    \"LABEL_17\": 17,\n",
      "    \"LABEL_18\": 18,\n",
      "    \"LABEL_19\": 19,\n",
      "    \"LABEL_2\": 2,\n",
      "    \"LABEL_20\": 20,\n",
      "    \"LABEL_21\": 21,\n",
      "    \"LABEL_22\": 22,\n",
      "    \"LABEL_23\": 23,\n",
      "    \"LABEL_24\": 24,\n",
      "    \"LABEL_25\": 25,\n",
      "    \"LABEL_26\": 26,\n",
      "    \"LABEL_27\": 27,\n",
      "    \"LABEL_28\": 28,\n",
      "    \"LABEL_29\": 29,\n",
      "    \"LABEL_3\": 3,\n",
      "    \"LABEL_30\": 30,\n",
      "    \"LABEL_31\": 31,\n",
      "    \"LABEL_32\": 32,\n",
      "    \"LABEL_33\": 33,\n",
      "    \"LABEL_34\": 34,\n",
      "    \"LABEL_35\": 35,\n",
      "    \"LABEL_36\": 36,\n",
      "    \"LABEL_37\": 37,\n",
      "    \"LABEL_38\": 38,\n",
      "    \"LABEL_39\": 39,\n",
      "    \"LABEL_4\": 4,\n",
      "    \"LABEL_40\": 40,\n",
      "    \"LABEL_41\": 41,\n",
      "    \"LABEL_42\": 42,\n",
      "    \"LABEL_43\": 43,\n",
      "    \"LABEL_44\": 44,\n",
      "    \"LABEL_45\": 45,\n",
      "    \"LABEL_46\": 46,\n",
      "    \"LABEL_47\": 47,\n",
      "    \"LABEL_48\": 48,\n",
      "    \"LABEL_49\": 49,\n",
      "    \"LABEL_5\": 5,\n",
      "    \"LABEL_50\": 50,\n",
      "    \"LABEL_51\": 51,\n",
      "    \"LABEL_52\": 52,\n",
      "    \"LABEL_53\": 53,\n",
      "    \"LABEL_54\": 54,\n",
      "    \"LABEL_55\": 55,\n",
      "    \"LABEL_56\": 56,\n",
      "    \"LABEL_57\": 57,\n",
      "    \"LABEL_58\": 58,\n",
      "    \"LABEL_59\": 59,\n",
      "    \"LABEL_6\": 6,\n",
      "    \"LABEL_60\": 60,\n",
      "    \"LABEL_61\": 61,\n",
      "    \"LABEL_62\": 62,\n",
      "    \"LABEL_63\": 63,\n",
      "    \"LABEL_64\": 64,\n",
      "    \"LABEL_65\": 65,\n",
      "    \"LABEL_66\": 66,\n",
      "    \"LABEL_67\": 67,\n",
      "    \"LABEL_68\": 68,\n",
      "    \"LABEL_69\": 69,\n",
      "    \"LABEL_7\": 7,\n",
      "    \"LABEL_70\": 70,\n",
      "    \"LABEL_71\": 71,\n",
      "    \"LABEL_72\": 72,\n",
      "    \"LABEL_73\": 73,\n",
      "    \"LABEL_74\": 74,\n",
      "    \"LABEL_75\": 75,\n",
      "    \"LABEL_76\": 76,\n",
      "    \"LABEL_77\": 77,\n",
      "    \"LABEL_78\": 78,\n",
      "    \"LABEL_79\": 79,\n",
      "    \"LABEL_8\": 8,\n",
      "    \"LABEL_80\": 80,\n",
      "    \"LABEL_81\": 81,\n",
      "    \"LABEL_82\": 82,\n",
      "    \"LABEL_83\": 83,\n",
      "    \"LABEL_84\": 84,\n",
      "    \"LABEL_85\": 85,\n",
      "    \"LABEL_86\": 86,\n",
      "    \"LABEL_87\": 87,\n",
      "    \"LABEL_88\": 88,\n",
      "    \"LABEL_89\": 89,\n",
      "    \"LABEL_9\": 9,\n",
      "    \"LABEL_90\": 90,\n",
      "    \"LABEL_91\": 91,\n",
      "    \"LABEL_92\": 92,\n",
      "    \"LABEL_93\": 93,\n",
      "    \"LABEL_94\": 94,\n",
      "    \"LABEL_95\": 95,\n",
      "    \"LABEL_96\": 96,\n",
      "    \"LABEL_97\": 97,\n",
      "    \"LABEL_98\": 98,\n",
      "    \"LABEL_99\": 99\n",
      "  },\n",
      "  \"max_position_embeddings\": 512,\n",
      "  \"model_type\": \"distilbert\",\n",
      "  \"n_heads\": 12,\n",
      "  \"n_layers\": 6,\n",
      "  \"pad_token_id\": 0,\n",
      "  \"qa_dropout\": 0.1,\n",
      "  \"seq_classif_dropout\": 0.2,\n",
      "  \"sinusoidal_pos_embds\": false,\n",
      "  \"tie_weights_\": true,\n",
      "  \"transformers_version\": \"4.16.2\",\n",
      "  \"vocab_size\": 30522\n",
      "}\n",
      "\n",
      "loading weights file https://huggingface.co/distilbert-base-uncased/resolve/main/pytorch_model.bin from cache at tmp/model/9c169103d7e5a73936dd2b627e42851bec0831212b677c637033ee4bce9ab5ee.126183e36667471617ae2f0835fab707baa54b731f991507ebbb55ea85adb12a\n",
      "Some weights of the model checkpoint at distilbert-base-uncased were not used when initializing DistilBertForSequenceClassification: ['vocab_layer_norm.weight', 'vocab_projector.bias', 'vocab_transform.weight', 'vocab_transform.bias', 'vocab_projector.weight', 'vocab_layer_norm.bias']\n",
      "- This IS expected if you are initializing DistilBertForSequenceClassification from the checkpoint of a model trained on another task or with another architecture (e.g. initializing a BertForSequenceClassification model from a BertForPreTraining model).\n",
      "- This IS NOT expected if you are initializing DistilBertForSequenceClassification from the checkpoint of a model that you expect to be exactly identical (initializing a BertForSequenceClassification model from a BertForSequenceClassification model).\n",
      "Some weights of DistilBertForSequenceClassification were not initialized from the model checkpoint at distilbert-base-uncased and are newly initialized: ['classifier.weight', 'pre_classifier.weight', 'classifier.bias', 'pre_classifier.bias']\n",
      "You should probably TRAIN this model on a down-stream task to be able to use it for predictions and inference.\n"
     ]
    }
   ],
   "source": [
    "model = ts.AutoModelForSequenceClassification.from_pretrained('distilbert-base-uncased', cache_dir = 'tmp/model', num_labels =  100)"
   ]
  },
  {
   "cell_type": "code",
   "execution_count": null,
   "metadata": {
    "colab": {
     "base_uri": "https://localhost:8080/"
    },
    "id": "x68-217zPsDH",
    "outputId": "ac0d5eeb-7bd9-45f7-ef0b-a38639cf1d6e"
   },
   "outputs": [
    {
     "name": "stderr",
     "output_type": "stream",
     "text": [
      "PyTorch: setting up devices\n"
     ]
    }
   ],
   "source": [
    "training_args = ts.TrainingArguments(\n",
    "    output_dir='tmp/model_output',\n",
    "    num_train_epochs=5,\n",
    "    per_device_train_batch_size=16,\n",
    "    per_device_eval_batch_size=32,\n",
    "    learning_rate=3e-5,\n",
    "    weight_decay=1e-2,\n",
    "    max_grad_norm=1.,\n",
    "    warmup_ratio=0.1,\n",
    "    metric_for_best_model='eval_loss',\n",
    "    load_best_model_at_end=True,\n",
    "    evaluation_strategy='epoch',\n",
    "    logging_strategy='epoch',\n",
    "    save_strategy='epoch',\n",
    "    save_total_limit=3,\n",
    "    report_to=\"wandb\", \n",
    "    run_name=\"run_name\"  \n",
    ")\n",
    "callbacks = [ts.EarlyStoppingCallback(3)]"
   ]
  },
  {
   "cell_type": "code",
   "execution_count": null,
   "metadata": {
    "id": "9gVgYej3PsDI"
   },
   "outputs": [],
   "source": [
    "trainer = ts.Trainer(\n",
    "    model=model,\n",
    "    args=training_args,\n",
    "    data_collator=data_collator,\n",
    "    train_dataset=tokenized_train,\n",
    "    eval_dataset=tokenized_val,\n",
    "    callbacks=callbacks,\n",
    "    compute_metrics=compute_metrics\n",
    ")"
   ]
  },
  {
   "cell_type": "code",
   "execution_count": null,
   "metadata": {
    "colab": {
     "base_uri": "https://localhost:8080/",
     "height": 1000
    },
    "id": "E1oA5TcpPsDJ",
    "outputId": "d887376d-6f12-48f2-8865-b93e6eb20256"
   },
   "outputs": [
    {
     "name": "stderr",
     "output_type": "stream",
     "text": [
      "/usr/local/lib/python3.7/dist-packages/transformers/optimization.py:309: FutureWarning: This implementation of AdamW is deprecated and will be removed in a future version. Use thePyTorch implementation torch.optim.AdamW instead, or set `no_deprecation_warning=True` to disable this warning\n",
      "  FutureWarning,\n",
      "***** Running training *****\n",
      "  Num examples = 99000\n",
      "  Num Epochs = 5\n",
      "  Instantaneous batch size per device = 16\n",
      "  Total train batch size (w. parallel, distributed & accumulation) = 16\n",
      "  Gradient Accumulation steps = 1\n",
      "  Total optimization steps = 30940\n",
      "Automatic Weights & Biases logging enabled, to disable set os.environ[\"WANDB_DISABLED\"] = \"true\"\n"
     ]
    },
    {
     "data": {
      "text/html": [
       "\n",
       "    <div>\n",
       "      \n",
       "      <progress value='30940' max='30940' style='width:300px; height:20px; vertical-align: middle;'></progress>\n",
       "      [30940/30940 1:46:17, Epoch 5/5]\n",
       "    </div>\n",
       "    <table border=\"1\" class=\"dataframe\">\n",
       "  <thead>\n",
       " <tr style=\"text-align: left;\">\n",
       "      <th>Epoch</th>\n",
       "      <th>Training Loss</th>\n",
       "      <th>Validation Loss</th>\n",
       "      <th>Accuracy</th>\n",
       "    </tr>\n",
       "  </thead>\n",
       "  <tbody>\n",
       "    <tr>\n",
       "      <td>1</td>\n",
       "      <td>2.319500</td>\n",
       "      <td>2.027878</td>\n",
       "      <td>0.277000</td>\n",
       "    </tr>\n",
       "    <tr>\n",
       "      <td>2</td>\n",
       "      <td>1.993000</td>\n",
       "      <td>2.010509</td>\n",
       "      <td>0.293000</td>\n",
       "    </tr>\n",
       "    <tr>\n",
       "      <td>3</td>\n",
       "      <td>1.870100</td>\n",
       "      <td>2.044888</td>\n",
       "      <td>0.292000</td>\n",
       "    </tr>\n",
       "    <tr>\n",
       "      <td>4</td>\n",
       "      <td>1.727100</td>\n",
       "      <td>2.175345</td>\n",
       "      <td>0.281000</td>\n",
       "    </tr>\n",
       "    <tr>\n",
       "      <td>5</td>\n",
       "      <td>1.595700</td>\n",
       "      <td>2.272457</td>\n",
       "      <td>0.268000</td>\n",
       "    </tr>\n",
       "  </tbody>\n",
       "</table><p>"
      ],
      "text/plain": [
       "<IPython.core.display.HTML object>"
      ]
     },
     "metadata": {},
     "output_type": "display_data"
    },
    {
     "name": "stderr",
     "output_type": "stream",
     "text": [
      "***** Running Evaluation *****\n",
      "  Num examples = 1000\n",
      "  Batch size = 32\n",
      "Saving model checkpoint to tmp/model_output/checkpoint-6188\n",
      "Configuration saved in tmp/model_output/checkpoint-6188/config.json\n",
      "Model weights saved in tmp/model_output/checkpoint-6188/pytorch_model.bin\n",
      "Deleting older checkpoint [tmp/model_output/checkpoint-12126] due to args.save_total_limit\n",
      "***** Running Evaluation *****\n",
      "  Num examples = 1000\n",
      "  Batch size = 32\n",
      "Saving model checkpoint to tmp/model_output/checkpoint-12376\n",
      "Configuration saved in tmp/model_output/checkpoint-12376/config.json\n",
      "Model weights saved in tmp/model_output/checkpoint-12376/pytorch_model.bin\n",
      "Deleting older checkpoint [tmp/model_output/checkpoint-24252] due to args.save_total_limit\n",
      "***** Running Evaluation *****\n",
      "  Num examples = 1000\n",
      "  Batch size = 32\n",
      "Saving model checkpoint to tmp/model_output/checkpoint-18564\n",
      "Configuration saved in tmp/model_output/checkpoint-18564/config.json\n",
      "Model weights saved in tmp/model_output/checkpoint-18564/pytorch_model.bin\n",
      "Deleting older checkpoint [tmp/model_output/checkpoint-30315] due to args.save_total_limit\n",
      "***** Running Evaluation *****\n",
      "  Num examples = 1000\n",
      "  Batch size = 32\n",
      "Saving model checkpoint to tmp/model_output/checkpoint-24752\n",
      "Configuration saved in tmp/model_output/checkpoint-24752/config.json\n",
      "Model weights saved in tmp/model_output/checkpoint-24752/pytorch_model.bin\n",
      "Deleting older checkpoint [tmp/model_output/checkpoint-6188] due to args.save_total_limit\n",
      "***** Running Evaluation *****\n",
      "  Num examples = 1000\n",
      "  Batch size = 32\n",
      "Saving model checkpoint to tmp/model_output/checkpoint-30940\n",
      "Configuration saved in tmp/model_output/checkpoint-30940/config.json\n",
      "Model weights saved in tmp/model_output/checkpoint-30940/pytorch_model.bin\n",
      "Deleting older checkpoint [tmp/model_output/checkpoint-18564] due to args.save_total_limit\n",
      "\n",
      "\n",
      "Training completed. Do not forget to share your model on huggingface.co/models =)\n",
      "\n",
      "\n",
      "Loading best model from tmp/model_output/checkpoint-12376 (score: 2.010509490966797).\n"
     ]
    },
    {
     "data": {
      "text/plain": [
       "TrainOutput(global_step=30940, training_loss=1.9010752287693924, metrics={'train_runtime': 6378.2355, 'train_samples_per_second': 77.608, 'train_steps_per_second': 4.851, 'total_flos': 1.753106458410816e+16, 'train_loss': 1.9010752287693924, 'epoch': 5.0})"
      ]
     },
     "execution_count": 69,
     "metadata": {},
     "output_type": "execute_result"
    }
   ],
   "source": [
    "trainer.train()"
   ]
  },
  {
   "cell_type": "code",
   "execution_count": null,
   "metadata": {
    "colab": {
     "base_uri": "https://localhost:8080/",
     "height": 89
    },
    "id": "1FEhz9-UmM_e",
    "outputId": "34facf4a-b8c4-4a52-e41e-420b25d7379b"
   },
   "outputs": [
    {
     "name": "stderr",
     "output_type": "stream",
     "text": [
      "***** Running Prediction *****\n",
      "  Num examples = 20000\n",
      "  Batch size = 32\n"
     ]
    },
    {
     "data": {
      "text/html": [
       "\n",
       "    <div>\n",
       "      \n",
       "      <progress value='625' max='625' style='width:300px; height:20px; vertical-align: middle;'></progress>\n",
       "      [625/625 01:52]\n",
       "    </div>\n",
       "    "
      ],
      "text/plain": [
       "<IPython.core.display.HTML object>"
      ]
     },
     "metadata": {},
     "output_type": "display_data"
    }
   ],
   "source": [
    "predictions = trainer.predict(tokenized_test)"
   ]
  },
  {
   "cell_type": "code",
   "execution_count": null,
   "metadata": {
    "id": "bWfnL8yWpR-X"
   },
   "outputs": [],
   "source": [
    "predict = (np.argmax(predictions.predictions, axis=-1) / 10) + 1 "
   ]
  },
  {
   "cell_type": "code",
   "execution_count": null,
   "metadata": {
    "id": "abuB6kTFmZ5P"
   },
   "outputs": [],
   "source": [
    "answer = pd.DataFrame()\n",
    "answer['review_id'] = alltest['review_id']\n",
    "answer['score'] = predict\n",
    "answer = answer.reset_index(drop=True)\n",
    "answer.to_csv('3.4.csv', index=False)"
   ]
  },
  {
   "cell_type": "code",
   "execution_count": null,
   "metadata": {
    "id": "FUOHUhKu7eK2",
    "outputId": "639da483-b3ea-403e-c19e-52b192a6ada2"
   },
   "outputs": [
    {
     "data": {
      "image/png": "[encoded data removed]",
      "text/plain": [
       "<IPython.core.display.Image object>"
      ]
     },
     "execution_count": 6,
     "metadata": {},
     "output_type": "execute_result"
    }
   ],
   "source": [
    "from IPython.display import Image\n",
    "Image(\"3.png\")"
   ]
  },
  {
   "cell_type": "markdown",
   "metadata": {
    "id": "DM7ZD9gyXHaR"
   },
   "source": [
    "# Линейная регрессия на TF-IDF векторах текстов:"
   ]
  },
  {
   "cell_type": "markdown",
   "metadata": {
    "id": "lr25AVtDPsCj"
   },
   "source": [
    "### Обучимся и протестируем локально:"
   ]
  },
  {
   "cell_type": "code",
   "execution_count": 13,
   "metadata": {
    "id": "2x4yCjh8XHaR"
   },
   "outputs": [],
   "source": [
    "from sklearn.feature_extraction.text import TfidfVectorizer\n",
    "from sklearn.linear_model import LinearRegression\n",
    "from sklearn.linear_model import LogisticRegression\n",
    "from sklearn.linear_model import Ridge\n",
    "from sklearn.linear_model import Lasso\n",
    "from sklearn.metrics import mean_absolute_error\n",
    "from matplotlib import pyplot as plt\n",
    "plt.style.use('seaborn-whitegrid')"
   ]
  },
  {
   "cell_type": "code",
   "execution_count": 14,
   "metadata": {
    "id": "TIMEC3AuPsCk"
   },
   "outputs": [],
   "source": [
    "def get_target(df):\n",
    "    return df[['positive', 'negative']], df['score']"
   ]
  },
  {
   "cell_type": "code",
   "execution_count": 15,
   "metadata": {
    "id": "J_M7_H6NPsCk"
   },
   "outputs": [],
   "source": [
    "x_test_local, y_test_local = get_target(df_test)\n",
    "x_train_local, y_train_local = get_target(df_train)"
   ]
  },
  {
   "cell_type": "code",
   "execution_count": 12,
   "metadata": {
    "id": "1hFfPiNjPsCk"
   },
   "outputs": [],
   "source": [
    "from scipy.sparse import hstack\n",
    "vectorizer = TfidfVectorizer()\n",
    "tfidf_train0 = vectorizer.fit_transform(x_train_local.iloc[:, 0].apply(sent))\n",
    "tfidf_test0 = vectorizer.transform(x_test_local.iloc[:, 0].apply(sent))\n",
    "tfidf_train1 = vectorizer.fit_transform(x_train_local.iloc[:, 1].apply(sent))\n",
    "tfidf_test1 = vectorizer.transform(x_test_local.iloc[:, 1].apply(sent))\n",
    "tfidf_train = hstack((tfidf_train0, tfidf_train1))\n",
    "tfidf_test = hstack((tfidf_test0, tfidf_test1))"
   ]
  },
  {
   "cell_type": "code",
   "execution_count": 13,
   "metadata": {
    "id": "ggddEcfGPsCl"
   },
   "outputs": [],
   "source": [
    "rid = Ridge().fit(tfidf_train, y_train_local)"
   ]
  },
  {
   "cell_type": "code",
   "execution_count": 14,
   "metadata": {
    "colab": {
     "base_uri": "https://localhost:8080/"
    },
    "id": "FaC6BUCgPsCm",
    "outputId": "19c88956-ce0c-499c-9121-ccb654516e70"
   },
   "outputs": [
    {
     "data": {
      "text/plain": [
       "0.8314118072933347"
      ]
     },
     "execution_count": 14,
     "metadata": {},
     "output_type": "execute_result"
    }
   ],
   "source": [
    "y_pred_local = rid.predict(tfidf_test)\n",
    "mean_absolute_error(y_test_local, y_pred_local)"
   ]
  },
  {
   "cell_type": "markdown",
   "metadata": {
    "id": "VjMKZkKiPsCp"
   },
   "source": [
    "### Подготовим предикт для Kaggle:"
   ]
  },
  {
   "cell_type": "code",
   "execution_count": null,
   "metadata": {
    "id": "e5x4A2BLPsCq"
   },
   "outputs": [],
   "source": [
    "def get_target(df):\n",
    "    return df[['positive', 'negative']], df['score']\n",
    "x_train_all, y_train_all = get_target(df)\n",
    "x_test_all = alltest[['positive', 'negative']]"
   ]
  },
  {
   "cell_type": "code",
   "execution_count": null,
   "metadata": {
    "id": "ToxvCRo8PsCq"
   },
   "outputs": [],
   "source": [
    "x_test_all = alltest[['positive', 'negative']]"
   ]
  },
  {
   "cell_type": "code",
   "execution_count": null,
   "metadata": {
    "id": "_ldU17FJPsCr"
   },
   "outputs": [],
   "source": [
    "vectorizer = TfidfVectorizer()\n",
    "tfidf_train0 = vectorizer.fit_transform(x_train_all.iloc[:, 0].apply(sent))\n",
    "tfidf_test0 = vectorizer.transform(x_test_all.iloc[:, 0].apply(sent))\n",
    "tfidf_train1 = vectorizer.fit_transform(x_train_all.iloc[:, 1].apply(sent))\n",
    "tfidf_test1 = vectorizer.transform(x_test_all.iloc[:, 1].apply(sent))\n",
    "tfidf_train = hstack((tfidf_train0, tfidf_train1))\n",
    "tfidf_test = hstack((tfidf_test0, tfidf_test1))"
   ]
  },
  {
   "cell_type": "code",
   "execution_count": null,
   "metadata": {
    "id": "mR4y0tDgPsCs"
   },
   "outputs": [],
   "source": [
    "rid = Ridge().fit(tfidf_train, y_train_all)"
   ]
  },
  {
   "cell_type": "code",
   "execution_count": null,
   "metadata": {
    "id": "6SgdvhWePsCs"
   },
   "outputs": [],
   "source": [
    "y_pred_all = rid.predict(tfidf_test)"
   ]
  },
  {
   "cell_type": "code",
   "execution_count": null,
   "metadata": {
    "id": "A7BdE_svPsCs"
   },
   "outputs": [],
   "source": [
    "answer = pd.DataFrame()\n",
    "answer['review_id'] = alltest['review_id']\n",
    "answer['score'] = y_pred_all\n",
    "answer = answer.reset_index(drop=True)\n",
    "answer.to_csv('1.csv', index=False)"
   ]
  },
  {
   "cell_type": "code",
   "execution_count": null,
   "metadata": {
    "id": "gOqeVWcqPsCs",
    "outputId": "febd1706-1177-494c-e68b-5a3696f98d42"
   },
   "outputs": [
    {
     "data": {
      "image/png": "[encoded data removed]",
      "text/plain": [
       "<IPython.core.display.Image object>"
      ]
     },
     "execution_count": 2,
     "metadata": {},
     "output_type": "execute_result"
    }
   ],
   "source": [
    "from IPython.display import Image\n",
    "Image(\"1.png\")"
   ]
  },
  {
   "cell_type": "markdown",
   "metadata": {
    "id": "BKkn7dRl7eKi"
   },
   "source": [
    "# Score 0.82985:"
   ]
  },
  {
   "cell_type": "code",
   "execution_count": null,
   "metadata": {
    "id": "a1YV6Ggb7eKi",
    "outputId": "52250caa-9b81-4207-cde7-b485b1fb6c1c"
   },
   "outputs": [
    {
     "data": {
      "image/png": "[encoded data removed]",
      "text/plain": [
       "<IPython.core.display.Image object>"
      ]
     },
     "execution_count": 10,
     "metadata": {},
     "output_type": "execute_result"
    }
   ],
   "source": [
    "from IPython.display import Image\n",
    "Image(\"1.png\")"
   ]
  },
  {
   "cell_type": "markdown",
   "metadata": {
    "id": "cYFL-5yFXHaS"
   },
   "source": [
    "# Линейная регрессия на Word2Vec векторах:"
   ]
  },
  {
   "cell_type": "markdown",
   "metadata": {
    "id": "UcPBSG7sPsCu"
   },
   "source": [
    "### Локально:"
   ]
  },
  {
   "cell_type": "code",
   "execution_count": 16,
   "metadata": {
    "id": "yM0M53stPsCv"
   },
   "outputs": [],
   "source": [
    "def sent(x):\n",
    "    return str(x).replace('[', '').replace(']', '').replace(', ', ' ').replace(\"'\", '')"
   ]
  },
  {
   "cell_type": "code",
   "execution_count": 17,
   "metadata": {
    "id": "jpcCEhBDXHaS"
   },
   "outputs": [],
   "source": [
    "x_test_local, y_test_local = get_target(df_test)\n",
    "x_train_local, y_train_local = get_target(df_train)"
   ]
  },
  {
   "cell_type": "code",
   "execution_count": 18,
   "metadata": {
    "id": "q0GPc8PxPsCv"
   },
   "outputs": [],
   "source": [
    "import gensim\n",
    "from gensim.models.word2vec import Word2Vec\n",
    "from gensim.models.phrases import Phrases, Phraser\n",
    "from tqdm.notebook import tqdm_notebook\n",
    "import multiprocessing\n",
    "import gensim.downloader as api\n",
    "corpus = api.load('text8')"
   ]
  },
  {
   "cell_type": "code",
   "execution_count": 19,
   "metadata": {
    "id": "j06YHesPqo3c"
   },
   "outputs": [],
   "source": [
    "data = (x_test_local['positive'] +\n",
    "        x_test_local['negative']).append(x_train_local['positive'] + x_train_local['negative'])"
   ]
  },
  {
   "cell_type": "code",
   "execution_count": 37,
   "metadata": {},
   "outputs": [],
   "source": [
    "def calc_vect(model, corp):\n",
    "    vect = []\n",
    "    for senten in corp:\n",
    "        if len(senten) != 0:\n",
    "            vect.append((sum([model.wv.get_vector(word) for word in senten]) / len(senten)).tolist())\n",
    "        else:\n",
    "            vect.append([0] * model.vector_size)\n",
    "    return vect"
   ]
  },
  {
   "cell_type": "code",
   "execution_count": 38,
   "metadata": {
    "id": "ANRnJbb3x4DP"
   },
   "outputs": [],
   "source": [
    " def w2v(size1):\n",
    "    model = Word2Vec(corpus, min_count=1, vector_size=size1)\n",
    "    model.build_vocab(data, update=True)\n",
    "    model.train(data, epochs=35, total_examples=model.corpus_count)\n",
    "    vect1 = calc_vect(model, x_test_local['positive'])\n",
    "    vect2 = calc_vect(model, x_test_local['negative'])\n",
    "    vect3 = calc_vect(model, x_train_local['negative'])\n",
    "    vect4 = calc_vect(model, x_train_local['positive'])\n",
    "    reg = Ridge().fit((np.concatenate((pd.DataFrame(vect4),\n",
    "                                               pd.DataFrame(vect3)), axis=1)), y_train_local)\n",
    "    return vect1, vect2, reg "
   ]
  },
  {
   "cell_type": "markdown",
   "metadata": {
    "id": "_ahYuKFW7eKl"
   },
   "source": [
    "**Размер эмбеддинга 300:**"
   ]
  },
  {
   "cell_type": "code",
   "execution_count": 39,
   "metadata": {
    "id": "F7zBxvMj7eKm"
   },
   "outputs": [],
   "source": [
    "vect1, vect2, reg = w2v(300)"
   ]
  },
  {
   "cell_type": "code",
   "execution_count": 40,
   "metadata": {},
   "outputs": [
    {
     "data": {
      "text/plain": [
       "0.9312266364785554"
      ]
     },
     "execution_count": 40,
     "metadata": {},
     "output_type": "execute_result"
    }
   ],
   "source": [
    "y_pred_local1 = reg.predict((np.concatenate((pd.DataFrame(vect1), pd.DataFrame(vect2)), axis=1)))\n",
    "mean_absolute_error(y_test_local, y_pred_local1)"
   ]
  },
  {
   "cell_type": "markdown",
   "metadata": {
    "id": "gbaKu5z-7eKm"
   },
   "source": [
    "**Размер эмбеддинга 600:**"
   ]
  },
  {
   "cell_type": "code",
   "execution_count": null,
   "metadata": {
    "id": "haaY1OMa7pFo"
   },
   "outputs": [],
   "source": [
    "vect1, vect2, reg = w2v(600)"
   ]
  },
  {
   "cell_type": "code",
   "execution_count": null,
   "metadata": {
    "colab": {
     "base_uri": "https://localhost:8080/"
    },
    "id": "tcT-Gydxx4DQ",
    "outputId": "5b93f305-a916-4019-d80d-fa8a6b5398ac"
   },
   "outputs": [
    {
     "data": {
      "text/plain": [
       "0.9217005157964833"
      ]
     },
     "execution_count": 28,
     "metadata": {},
     "output_type": "execute_result"
    }
   ],
   "source": [
    "y_pred_local1 = reg.predict((np.concatenate((pd.DataFrame(vect1), pd.DataFrame(vect2)), axis=1)))\n",
    "mean_absolute_error(y_test_local, y_pred_local1)"
   ]
  },
  {
   "cell_type": "markdown",
   "metadata": {
    "id": "_2eK-Y7D7eKn"
   },
   "source": [
    "### Сделаем предикт с размером эмбеддинга 600 для Kaggle:"
   ]
  },
  {
   "cell_type": "code",
   "execution_count": null,
   "metadata": {
    "id": "F_fQVcv25uDY"
   },
   "outputs": [],
   "source": [
    "data_all = (x_test_all['positive'] +\n",
    "        x_test_all['negative'])"
   ]
  },
  {
   "cell_type": "code",
   "execution_count": null,
   "metadata": {
    "colab": {
     "base_uri": "https://localhost:8080/"
    },
    "id": "zzKXU6iy5rnw",
    "outputId": "c60b721e-72fd-4679-df3c-e38a26429125"
   },
   "outputs": [
    {
     "data": {
      "text/plain": [
       "(16937857, 24224690)"
      ]
     },
     "execution_count": 31,
     "metadata": {},
     "output_type": "execute_result"
    }
   ],
   "source": [
    "model = Word2Vec(corpus, min_count=1, size=600)\n",
    "model.build_vocab(data, update=True)\n",
    "model.train(data, epochs=35, total_examples=model.corpus_count)\n",
    "model.build_vocab(data_all, update=True)\n",
    "model.train(data_all, epochs=35, total_examples=model.corpus_count)"
   ]
  },
  {
   "cell_type": "code",
   "execution_count": null,
   "metadata": {
    "id": "Mt4z1Qyy59uv"
   },
   "outputs": [],
   "source": [
    "vect1 = []\n",
    "vect1 = calc_vect(model, x_test_all['positive'])\n",
    "vect2 = calc_vect(model, x_test_all['negative'])\n",
    "vect3 = calc_vect(model, x_train_all['negative'])\n",
    "vect4 = calc_vect(model, x_train_all['positive'])"
   ]
  },
  {
   "cell_type": "code",
   "execution_count": null,
   "metadata": {
    "id": "AGxs7ug16J11"
   },
   "outputs": [],
   "source": [
    "reg = Ridge().fit((np.concatenate((pd.DataFrame(vect4),\n",
    "                                               pd.DataFrame(vect3)), axis=1)), y_train_all)\n",
    "y_pred_all = reg.predict((np.concatenate((pd.DataFrame(vect1), pd.DataFrame(vect2)), axis=1)))"
   ]
  },
  {
   "cell_type": "code",
   "execution_count": null,
   "metadata": {
    "id": "Q8iuzpIH6PFH"
   },
   "outputs": [],
   "source": [
    "answer = pd.DataFrame()\n",
    "answer['review_id'] = alltest['review_id']\n",
    "answer['score'] = y_pred_all\n",
    "answer = answer.reset_index(drop=True)\n",
    "answer.to_csv('2.1.csv', index=False)"
   ]
  },
  {
   "cell_type": "code",
   "execution_count": null,
   "metadata": {
    "id": "wHbuC5UD7eKp",
    "outputId": "f3812a1d-5a16-4d55-e8c9-dbda064dafbd"
   },
   "outputs": [
    {
     "data": {
      "image/png": "[encoded data removed]",
      "text/plain": [
       "<IPython.core.display.Image object>"
      ]
     },
     "execution_count": 4,
     "metadata": {},
     "output_type": "execute_result"
    }
   ],
   "source": [
    "from IPython.display import Image\n",
    "Image(\"2.png\")"
   ]
  },
  {
   "cell_type": "markdown",
   "metadata": {
    "id": "KWrIciGxXHaS"
   },
   "source": [
    "Перевзвесим векторы слов при помощи IDF:"
   ]
  },
  {
   "cell_type": "code",
   "execution_count": 41,
   "metadata": {
    "colab": {
     "base_uri": "https://localhost:8080/"
    },
    "id": "amzhxPRJPsC9",
    "outputId": "1c1b5144-923e-456b-b51b-5e3bb0d8b32c"
   },
   "outputs": [
    {
     "data": {
      "text/plain": [
       "<100000x34692 sparse matrix of type '<class 'numpy.float64'>'\n",
       "\twith 2631452 stored elements in Compressed Sparse Row format>"
      ]
     },
     "execution_count": 41,
     "metadata": {},
     "output_type": "execute_result"
    }
   ],
   "source": [
    "vectorizer = TfidfVectorizer()\n",
    "vectorizer.fit_transform(data.apply(sent))"
   ]
  },
  {
   "cell_type": "code",
   "execution_count": 42,
   "metadata": {},
   "outputs": [],
   "source": [
    "def calc_vect_idf(model, corp, idf):\n",
    "    vect = []\n",
    "    for senten in corp:\n",
    "        if len(senten) != 0:\n",
    "            vect.append((sum([model.wv.get_vector(word)* \n",
    "                           idf.get(word, 1) for word in senten]) / len(senten)).tolist())\n",
    "        else:\n",
    "            vect.append([0] * model.vector_size)\n",
    "    return vect"
   ]
  },
  {
   "cell_type": "code",
   "execution_count": 43,
   "metadata": {
    "id": "tZpda2ZLqo3f"
   },
   "outputs": [],
   "source": [
    "idf = {}\n",
    "for i in vectorizer.vocabulary_:\n",
    "    idf[i] = vectorizer.idf_[vectorizer.vocabulary_[i]]"
   ]
  },
  {
   "cell_type": "code",
   "execution_count": 44,
   "metadata": {
    "id": "MdGZAAbq7eKr",
    "outputId": "ba13e24b-a5c4-402c-8991-3e5b6a291e45"
   },
   "outputs": [
    {
     "data": {
      "text/plain": [
       "(84241950, 120424360)"
      ]
     },
     "execution_count": 44,
     "metadata": {},
     "output_type": "execute_result"
    }
   ],
   "source": [
    "model = Word2Vec(corpus, min_count=1, vector_size=300)\n",
    "model.build_vocab(data, update=True)\n",
    "model.train(data, epochs=35, total_examples=model.corpus_count)"
   ]
  },
  {
   "cell_type": "code",
   "execution_count": 45,
   "metadata": {
    "id": "nnPio2Duqo3f"
   },
   "outputs": [],
   "source": [
    "vect1 = calc_vect_idf(model, x_test_local['positive'], idf)\n",
    "vect2 = calc_vect_idf(model, x_test_local['negative'], idf)\n",
    "vect3 = calc_vect_idf(model, x_train_local['negative'], idf)\n",
    "vect4 = calc_vect_idf(model, x_train_local['positive'], idf)"
   ]
  },
  {
   "cell_type": "code",
   "execution_count": 46,
   "metadata": {
    "colab": {
     "base_uri": "https://localhost:8080/"
    },
    "id": "aJFNPSt3qo3g",
    "outputId": "c4f2419b-3c04-4b23-a535-ab7b115ea11a"
   },
   "outputs": [
    {
     "data": {
      "text/plain": [
       "1.5407418447579717"
      ]
     },
     "execution_count": 46,
     "metadata": {},
     "output_type": "execute_result"
    }
   ],
   "source": [
    "rid = Ridge().fit(pd.DataFrame(np.concatenate((pd.DataFrame(vect3),\n",
    "                                               pd.DataFrame(vect4)), axis=1)), y_train_local)\n",
    "y_pred_local = rid.predict(pd.DataFrame(np.concatenate((pd.DataFrame(vect1), pd.DataFrame(vect2)), axis=1)))\n",
    "mean_absolute_error(y_test_local, y_pred_local)"
   ]
  },
  {
   "cell_type": "code",
   "execution_count": 25,
   "metadata": {
    "colab": {
     "base_uri": "https://localhost:8080/",
     "height": 49,
     "referenced_widgets": [
      "5e479d519ba74e5a9f215e0cff5ffb73",
      "5e6d715c35b34f598dacedc0233445ed",
      "85232de8b0604ac988a228cc24760343",
      "fb95e74bb92941d090d650aee1b5cc2d",
      "11687874d16c41489e55eec607b33a1b",
      "06f085a44564434c884888306df31b7c",
      "37e5886796e049f2852ec73b235ef135",
      "09d6542bc3fc44f39c05897ceaaae6c3",
      "906c665ac43046d6956c2acff24ff027",
      "adf819703627459c925198f0e5efb1e8",
      "ffbadf718fbb49edbe36e33b775ec24a"
     ]
    },
    "id": "xpjeQnNc7eKs",
    "outputId": "8dcb59a8-8993-4f82-8bab-5fab78c56b03"
   },
   "outputs": [
    {
     "data": {
      "application/vnd.jupyter.widget-view+json": {
       "model_id": "5e479d519ba74e5a9f215e0cff5ffb73",
       "version_major": 2,
       "version_minor": 0
      },
      "text/plain": [
       "  0%|          | 0/10 [00:00<?, ?it/s]"
      ]
     },
     "metadata": {},
     "output_type": "display_data"
    }
   ],
   "source": [
    "mae = []\n",
    "for size in tqdm_notebook(range(1, 400, 40)):\n",
    "  vect1, vect2, reg = w2v(size)\n",
    "  y_pred_local1 = reg.predict((np.concatenate((pd.DataFrame(vect1), pd.DataFrame(vect2)), axis=1)))\n",
    "  mae.append(mean_absolute_error(y_test_local, y_pred_local1))"
   ]
  },
  {
   "cell_type": "code",
   "execution_count": 29,
   "metadata": {
    "colab": {
     "base_uri": "https://localhost:8080/",
     "height": 370
    },
    "id": "i0oA4MoIZqto",
    "outputId": "66bd22e2-f57f-4f05-e003-7cfbe7dfa13b"
   },
   "outputs": [
    {
     "data": {
      "text/plain": [
       "Text(0.5, 1.0, 'График зависимости качества модели от размерности эмбеддинга')"
      ]
     },
     "execution_count": 29,
     "metadata": {},
     "output_type": "execute_result"
    },
    {
     "data": {
      "image/png": "[encoded data removed]",
      "text/plain": [
       "<Figure size 720x360 with 1 Axes>"
      ]
     },
     "metadata": {},
     "output_type": "display_data"
    }
   ],
   "source": [
    "plt.figure(figsize=(10, 5))\n",
    "ax = plt.axes()\n",
    "ax.set_facecolor(\"honeydew\")\n",
    "plt.plot(np.arange(1, 400, 40) ,mae , c='deeppink')\n",
    "plt.xlabel('Размерность эмбеддинга.', fontsize=12.5)\n",
    "plt.ylabel('Качество модели', fontsize=12.5)\n",
    "plt.title('График зависимости качества модели от размерности эмбеддинга', fontsize=14)"
   ]
  },
  {
   "cell_type": "markdown",
   "metadata": {
    "id": "f29vizrmXHaT"
   },
   "source": [
    "#### Выводы:\n",
    "Было рассмотрено 3 тактики строить Word2vec:\n",
    "\n",
    "1. Строить отдельные модели для каждого из датасетов (итого 4 модели для *`Train positive`*, *`Test positive`*, *`Train negative`*, *`Test negative`*)\n",
    "\n",
    "2. Строить одну модель, при этом положительные и отрицательные отзывы являются разными каталогами(предложениями)\n",
    "\n",
    "3. Строить одну модель, при этом склеить положительные и отрицательные отзывы в один каталог(предложение)\n",
    "\n",
    "При выполнении задания я выбрал 3 тактику экспериментальным путем. \n",
    "\n",
    "При использовании 1 тактики предложения получались небольшими и корпус оказывался небольшим. Таким образом при увеличении размерности эмбеддинга качество не расло, ведь слов немного и поэтому большое количество координат векторов не давало пользы.\n",
    "\n",
    "При 2 и 3 тактике же увеличение размеров эмбеддинга давало мощный прирост качества в силу большого размера корпуса.\n",
    "\n",
    "3 тактика показывала лучшие результаты, ведь каталоги(предложения) имели большую длину, а следовательно у большего числа слов есть соседи при помощи которых модель лучше понимает смысл.\n",
    "\n",
    "При использовании в качестве весов `IDF` качество упало. \n",
    "\n",
    "Для 2 тактики `IDF` мог дать прирост в силу устройства каталогов, но для 3 уже портил качество. Например слово _\"no\"_ или _\"not\"_ могло встречаться как в положительных, так и в отрицательных отзывах, а слова _\"good\"_ или _\"bad\"_ уже чаще всего присуще определенному типу, что создавло путаницу при перевзвешивании слов в склеенных отзывах.\n",
    "Имеено поэтому в первом номере использовалась 1 тактика про построении `TF-IDF` векторов текстов.\n",
    "\n",
    "`FastText` дал не очень хороший результат. В силу составления символьных n-грамм моделью она работает очень долго. Ошибка получилась большой, ведь модель хорошо работает на редких и устаревших словах, что не очень полезно в нашей задаче."
   ]
  },
  {
   "cell_type": "markdown",
   "metadata": {
    "id": "45lNQ16GaJq3"
   },
   "source": [
    "### В качестве других эмбеддингов размерности 300 используем FastText:"
   ]
  },
  {
   "cell_type": "code",
   "execution_count": 48,
   "metadata": {
    "id": "h9NvF8YsZ8ku"
   },
   "outputs": [],
   "source": [
    "from gensim.models import FastText"
   ]
  },
  {
   "cell_type": "code",
   "execution_count": 49,
   "metadata": {},
   "outputs": [
    {
     "data": {
      "text/plain": [
       "(84248613, 120424360)"
      ]
     },
     "execution_count": 49,
     "metadata": {},
     "output_type": "execute_result"
    }
   ],
   "source": [
    "model = FastText(corpus, min_count=1, vector_size=300)\n",
    "model.build_vocab([row.split() for row in data.apply(sent)], update=True)\n",
    "model.train([row.split() for row in data.apply(sent)], epochs=35, total_examples=model.corpus_count)"
   ]
  },
  {
   "cell_type": "code",
   "execution_count": 50,
   "metadata": {
    "id": "bv0YevfwaCoK"
   },
   "outputs": [],
   "source": [
    "vect1 = calc_vect(model, x_test_local['positive'])\n",
    "vect2 = calc_vect(model, x_test_local['negative'])\n",
    "vect3 = calc_vect(model, x_train_local['negative'])\n",
    "vect4 = calc_vect(model, x_train_local['positive'])"
   ]
  },
  {
   "cell_type": "code",
   "execution_count": 51,
   "metadata": {},
   "outputs": [
    {
     "data": {
      "text/plain": [
       "1.6253479121982854"
      ]
     },
     "execution_count": 51,
     "metadata": {},
     "output_type": "execute_result"
    }
   ],
   "source": [
    "rid = Ridge().fit(pd.DataFrame(np.concatenate((pd.DataFrame(vect3),\n",
    "                                               pd.DataFrame(vect4)), axis=1)), y_train_local)\n",
    "y_pred_local = rid.predict(pd.DataFrame(np.concatenate((pd.DataFrame(vect1), pd.DataFrame(vect2)), axis=1)))\n",
    "mean_absolute_error(y_test_local, y_pred_local)"
   ]
  },
  {
   "cell_type": "markdown",
   "metadata": {
    "id": "149kng3O7eKt"
   },
   "source": [
    "# Score 0.91732:"
   ]
  },
  {
   "cell_type": "code",
   "execution_count": null,
   "metadata": {
    "id": "3Xy0qMll7eKt",
    "outputId": "338f90ba-43e0-43c1-ad22-f9cbdd92aa2f"
   },
   "outputs": [
    {
     "data": {
      "image/png": "[encoded data removed]",
      "text/plain": [
       "<IPython.core.display.Image object>"
      ]
     },
     "execution_count": 5,
     "metadata": {},
     "output_type": "execute_result"
    }
   ],
   "source": [
    "from IPython.display import Image\n",
    "Image(\"2.png\")"
   ]
  }
 ],
 "metadata": {
  "accelerator": "GPU",
  "colab": {
   "collapsed_sections": [],
   "name": "homework_03_text2_transformer3_final.ipynb",
   "provenance": []
  },
  "kernelspec": {
   "display_name": "Python 3 (ipykernel)",
   "language": "python",
   "name": "python3"
  },
  "language_info": {
   "codemirror_mode": {
    "name": "ipython",
    "version": 3
   },
   "file_extension": ".py",
   "mimetype": "text/x-python",
   "name": "python",
   "nbconvert_exporter": "python",
   "pygments_lexer": "ipython3",
   "version": "3.9.7"
  },
  "widgets": {
   "application/vnd.jupyter.widget-state+json": {
    "03659db4e020431a9d655f0186cb3d4f": {
     "model_module": "@jupyter-widgets/controls",
     "model_module_version": "1.5.0",
     "model_name": "DescriptionStyleModel",
     "state": {
      "_model_module": "@jupyter-widgets/controls",
      "_model_module_version": "1.5.0",
      "_model_name": "DescriptionStyleModel",
      "_view_count": null,
      "_view_module": "@jupyter-widgets/base",
      "_view_module_version": "1.2.0",
      "_view_name": "StyleView",
      "description_width": ""
     }
    },
    "06f085a44564434c884888306df31b7c": {
     "model_module": "@jupyter-widgets/controls",
     "model_module_version": "1.5.0",
     "model_name": "DescriptionStyleModel",
     "state": {
      "_model_module": "@jupyter-widgets/controls",
      "_model_module_version": "1.5.0",
      "_model_name": "DescriptionStyleModel",
      "_view_count": null,
      "_view_module": "@jupyter-widgets/base",
      "_view_module_version": "1.2.0",
      "_view_name": "StyleView",
      "description_width": ""
     }
    },
    "09d6542bc3fc44f39c05897ceaaae6c3": {
     "model_module": "@jupyter-widgets/controls",
     "model_module_version": "1.5.0",
     "model_name": "ProgressStyleModel",
     "state": {
      "_model_module": "@jupyter-widgets/controls",
      "_model_module_version": "1.5.0",
      "_model_name": "ProgressStyleModel",
      "_view_count": null,
      "_view_module": "@jupyter-widgets/base",
      "_view_module_version": "1.2.0",
      "_view_name": "StyleView",
      "bar_color": null,
      "description_width": ""
     }
    },
    "11687874d16c41489e55eec607b33a1b": {
     "model_module": "@jupyter-widgets/controls",
     "model_module_version": "1.5.0",
     "model_name": "HTMLModel",
     "state": {
      "_dom_classes": [],
      "_model_module": "@jupyter-widgets/controls",
      "_model_module_version": "1.5.0",
      "_model_name": "HTMLModel",
      "_view_count": null,
      "_view_module": "@jupyter-widgets/controls",
      "_view_module_version": "1.5.0",
      "_view_name": "HTMLView",
      "description": "",
      "description_tooltip": null,
      "layout": "IPY_MODEL_ffbadf718fbb49edbe36e33b775ec24a",
      "placeholder": "​",
      "style": "IPY_MODEL_adf819703627459c925198f0e5efb1e8",
      "value": " 10/10 [1:01:49&lt;00:00, 422.00s/it]"
     }
    },
    "11983cfea3db475dac488ee00cca274b": {
     "model_module": "@jupyter-widgets/base",
     "model_module_version": "1.2.0",
     "model_name": "LayoutModel",
     "state": {
      "_model_module": "@jupyter-widgets/base",
      "_model_module_version": "1.2.0",
      "_model_name": "LayoutModel",
      "_view_count": null,
      "_view_module": "@jupyter-widgets/base",
      "_view_module_version": "1.2.0",
      "_view_name": "LayoutView",
      "align_content": null,
      "align_items": null,
      "align_self": null,
      "border": null,
      "bottom": null,
      "display": null,
      "flex": null,
      "flex_flow": null,
      "grid_area": null,
      "grid_auto_columns": null,
      "grid_auto_flow": null,
      "grid_auto_rows": null,
      "grid_column": null,
      "grid_gap": null,
      "grid_row": null,
      "grid_template_areas": null,
      "grid_template_columns": null,
      "grid_template_rows": null,
      "height": null,
      "justify_content": null,
      "justify_items": null,
      "left": null,
      "margin": null,
      "max_height": null,
      "max_width": null,
      "min_height": null,
      "min_width": null,
      "object_fit": null,
      "object_position": null,
      "order": null,
      "overflow": null,
      "overflow_x": null,
      "overflow_y": null,
      "padding": null,
      "right": null,
      "top": null,
      "visibility": null,
      "width": null
     }
    },
    "26b41833a44b49c8af2ea95b40c1eade": {
     "model_module": "@jupyter-widgets/controls",
     "model_module_version": "1.5.0",
     "model_name": "ProgressStyleModel",
     "state": {
      "_model_module": "@jupyter-widgets/controls",
      "_model_module_version": "1.5.0",
      "_model_name": "ProgressStyleModel",
      "_view_count": null,
      "_view_module": "@jupyter-widgets/base",
      "_view_module_version": "1.2.0",
      "_view_name": "StyleView",
      "bar_color": null,
      "description_width": ""
     }
    },
    "37e5886796e049f2852ec73b235ef135": {
     "model_module": "@jupyter-widgets/base",
     "model_module_version": "1.2.0",
     "model_name": "LayoutModel",
     "state": {
      "_model_module": "@jupyter-widgets/base",
      "_model_module_version": "1.2.0",
      "_model_name": "LayoutModel",
      "_view_count": null,
      "_view_module": "@jupyter-widgets/base",
      "_view_module_version": "1.2.0",
      "_view_name": "LayoutView",
      "align_content": null,
      "align_items": null,
      "align_self": null,
      "border": null,
      "bottom": null,
      "display": null,
      "flex": null,
      "flex_flow": null,
      "grid_area": null,
      "grid_auto_columns": null,
      "grid_auto_flow": null,
      "grid_auto_rows": null,
      "grid_column": null,
      "grid_gap": null,
      "grid_row": null,
      "grid_template_areas": null,
      "grid_template_columns": null,
      "grid_template_rows": null,
      "height": null,
      "justify_content": null,
      "justify_items": null,
      "left": null,
      "margin": null,
      "max_height": null,
      "max_width": null,
      "min_height": null,
      "min_width": null,
      "object_fit": null,
      "object_position": null,
      "order": null,
      "overflow": null,
      "overflow_x": null,
      "overflow_y": null,
      "padding": null,
      "right": null,
      "top": null,
      "visibility": null,
      "width": null
     }
    },
    "3b106b13609140348b3a6116f6f05afb": {
     "model_module": "@jupyter-widgets/controls",
     "model_module_version": "1.5.0",
     "model_name": "DescriptionStyleModel",
     "state": {
      "_model_module": "@jupyter-widgets/controls",
      "_model_module_version": "1.5.0",
      "_model_name": "DescriptionStyleModel",
      "_view_count": null,
      "_view_module": "@jupyter-widgets/base",
      "_view_module_version": "1.2.0",
      "_view_name": "StyleView",
      "description_width": ""
     }
    },
    "42c28b97c1b448059c90a1e02facaee7": {
     "model_module": "@jupyter-widgets/base",
     "model_module_version": "1.2.0",
     "model_name": "LayoutModel",
     "state": {
      "_model_module": "@jupyter-widgets/base",
      "_model_module_version": "1.2.0",
      "_model_name": "LayoutModel",
      "_view_count": null,
      "_view_module": "@jupyter-widgets/base",
      "_view_module_version": "1.2.0",
      "_view_name": "LayoutView",
      "align_content": null,
      "align_items": null,
      "align_self": null,
      "border": null,
      "bottom": null,
      "display": null,
      "flex": null,
      "flex_flow": null,
      "grid_area": null,
      "grid_auto_columns": null,
      "grid_auto_flow": null,
      "grid_auto_rows": null,
      "grid_column": null,
      "grid_gap": null,
      "grid_row": null,
      "grid_template_areas": null,
      "grid_template_columns": null,
      "grid_template_rows": null,
      "height": null,
      "justify_content": null,
      "justify_items": null,
      "left": null,
      "margin": null,
      "max_height": null,
      "max_width": null,
      "min_height": null,
      "min_width": null,
      "object_fit": null,
      "object_position": null,
      "order": null,
      "overflow": null,
      "overflow_x": null,
      "overflow_y": null,
      "padding": null,
      "right": null,
      "top": null,
      "visibility": null,
      "width": null
     }
    },
    "45becdd1d4b94b728fddadf5ea10be75": {
     "model_module": "@jupyter-widgets/controls",
     "model_module_version": "1.5.0",
     "model_name": "HTMLModel",
     "state": {
      "_dom_classes": [],
      "_model_module": "@jupyter-widgets/controls",
      "_model_module_version": "1.5.0",
      "_model_name": "HTMLModel",
      "_view_count": null,
      "_view_module": "@jupyter-widgets/controls",
      "_view_module_version": "1.5.0",
      "_view_name": "HTMLView",
      "description": "",
      "description_tooltip": null,
      "layout": "IPY_MODEL_e7b5fd96575e4660aa43ef25682fdcc4",
      "placeholder": "​",
      "style": "IPY_MODEL_9d9caac911b7458696e16cfa68d8e8ce",
      "value": " 77704/? [00:22&lt;00:00, 3515.69ex/s]"
     }
    },
    "46fb8e9c516c417ea23a5877cee5826c": {
     "model_module": "@jupyter-widgets/base",
     "model_module_version": "1.2.0",
     "model_name": "LayoutModel",
     "state": {
      "_model_module": "@jupyter-widgets/base",
      "_model_module_version": "1.2.0",
      "_model_name": "LayoutModel",
      "_view_count": null,
      "_view_module": "@jupyter-widgets/base",
      "_view_module_version": "1.2.0",
      "_view_name": "LayoutView",
      "align_content": null,
      "align_items": null,
      "align_self": null,
      "border": null,
      "bottom": null,
      "display": null,
      "flex": null,
      "flex_flow": null,
      "grid_area": null,
      "grid_auto_columns": null,
      "grid_auto_flow": null,
      "grid_auto_rows": null,
      "grid_column": null,
      "grid_gap": null,
      "grid_row": null,
      "grid_template_areas": null,
      "grid_template_columns": null,
      "grid_template_rows": null,
      "height": null,
      "justify_content": null,
      "justify_items": null,
      "left": null,
      "margin": null,
      "max_height": null,
      "max_width": null,
      "min_height": null,
      "min_width": null,
      "object_fit": null,
      "object_position": null,
      "order": null,
      "overflow": null,
      "overflow_x": null,
      "overflow_y": null,
      "padding": null,
      "right": null,
      "top": null,
      "visibility": null,
      "width": "20px"
     }
    },
    "4f2d0f4874a14eba97dd3333785c92c0": {
     "model_module": "@jupyter-widgets/base",
     "model_module_version": "1.2.0",
     "model_name": "LayoutModel",
     "state": {
      "_model_module": "@jupyter-widgets/base",
      "_model_module_version": "1.2.0",
      "_model_name": "LayoutModel",
      "_view_count": null,
      "_view_module": "@jupyter-widgets/base",
      "_view_module_version": "1.2.0",
      "_view_name": "LayoutView",
      "align_content": null,
      "align_items": null,
      "align_self": null,
      "border": null,
      "bottom": null,
      "display": null,
      "flex": null,
      "flex_flow": null,
      "grid_area": null,
      "grid_auto_columns": null,
      "grid_auto_flow": null,
      "grid_auto_rows": null,
      "grid_column": null,
      "grid_gap": null,
      "grid_row": null,
      "grid_template_areas": null,
      "grid_template_columns": null,
      "grid_template_rows": null,
      "height": null,
      "justify_content": null,
      "justify_items": null,
      "left": null,
      "margin": null,
      "max_height": null,
      "max_width": null,
      "min_height": null,
      "min_width": null,
      "object_fit": null,
      "object_position": null,
      "order": null,
      "overflow": null,
      "overflow_x": null,
      "overflow_y": null,
      "padding": null,
      "right": null,
      "top": null,
      "visibility": null,
      "width": null
     }
    },
    "5e479d519ba74e5a9f215e0cff5ffb73": {
     "model_module": "@jupyter-widgets/controls",
     "model_module_version": "1.5.0",
     "model_name": "HBoxModel",
     "state": {
      "_dom_classes": [],
      "_model_module": "@jupyter-widgets/controls",
      "_model_module_version": "1.5.0",
      "_model_name": "HBoxModel",
      "_view_count": null,
      "_view_module": "@jupyter-widgets/controls",
      "_view_module_version": "1.5.0",
      "_view_name": "HBoxView",
      "box_style": "",
      "children": [
       "IPY_MODEL_85232de8b0604ac988a228cc24760343",
       "IPY_MODEL_fb95e74bb92941d090d650aee1b5cc2d",
       "IPY_MODEL_11687874d16c41489e55eec607b33a1b"
      ],
      "layout": "IPY_MODEL_5e6d715c35b34f598dacedc0233445ed"
     }
    },
    "5e6d715c35b34f598dacedc0233445ed": {
     "model_module": "@jupyter-widgets/base",
     "model_module_version": "1.2.0",
     "model_name": "LayoutModel",
     "state": {
      "_model_module": "@jupyter-widgets/base",
      "_model_module_version": "1.2.0",
      "_model_name": "LayoutModel",
      "_view_count": null,
      "_view_module": "@jupyter-widgets/base",
      "_view_module_version": "1.2.0",
      "_view_name": "LayoutView",
      "align_content": null,
      "align_items": null,
      "align_self": null,
      "border": null,
      "bottom": null,
      "display": null,
      "flex": null,
      "flex_flow": null,
      "grid_area": null,
      "grid_auto_columns": null,
      "grid_auto_flow": null,
      "grid_auto_rows": null,
      "grid_column": null,
      "grid_gap": null,
      "grid_row": null,
      "grid_template_areas": null,
      "grid_template_columns": null,
      "grid_template_rows": null,
      "height": null,
      "justify_content": null,
      "justify_items": null,
      "left": null,
      "margin": null,
      "max_height": null,
      "max_width": null,
      "min_height": null,
      "min_width": null,
      "object_fit": null,
      "object_position": null,
      "order": null,
      "overflow": null,
      "overflow_x": null,
      "overflow_y": null,
      "padding": null,
      "right": null,
      "top": null,
      "visibility": null,
      "width": null
     }
    },
    "81af08ea2e4f46aa98ea349508e5f29a": {
     "model_module": "@jupyter-widgets/base",
     "model_module_version": "1.2.0",
     "model_name": "LayoutModel",
     "state": {
      "_model_module": "@jupyter-widgets/base",
      "_model_module_version": "1.2.0",
      "_model_name": "LayoutModel",
      "_view_count": null,
      "_view_module": "@jupyter-widgets/base",
      "_view_module_version": "1.2.0",
      "_view_name": "LayoutView",
      "align_content": null,
      "align_items": null,
      "align_self": null,
      "border": null,
      "bottom": null,
      "display": null,
      "flex": null,
      "flex_flow": null,
      "grid_area": null,
      "grid_auto_columns": null,
      "grid_auto_flow": null,
      "grid_auto_rows": null,
      "grid_column": null,
      "grid_gap": null,
      "grid_row": null,
      "grid_template_areas": null,
      "grid_template_columns": null,
      "grid_template_rows": null,
      "height": null,
      "justify_content": null,
      "justify_items": null,
      "left": null,
      "margin": null,
      "max_height": null,
      "max_width": null,
      "min_height": null,
      "min_width": null,
      "object_fit": null,
      "object_position": null,
      "order": null,
      "overflow": null,
      "overflow_x": null,
      "overflow_y": null,
      "padding": null,
      "right": null,
      "top": null,
      "visibility": null,
      "width": null
     }
    },
    "85232de8b0604ac988a228cc24760343": {
     "model_module": "@jupyter-widgets/controls",
     "model_module_version": "1.5.0",
     "model_name": "HTMLModel",
     "state": {
      "_dom_classes": [],
      "_model_module": "@jupyter-widgets/controls",
      "_model_module_version": "1.5.0",
      "_model_name": "HTMLModel",
      "_view_count": null,
      "_view_module": "@jupyter-widgets/controls",
      "_view_module_version": "1.5.0",
      "_view_name": "HTMLView",
      "description": "",
      "description_tooltip": null,
      "layout": "IPY_MODEL_37e5886796e049f2852ec73b235ef135",
      "placeholder": "​",
      "style": "IPY_MODEL_06f085a44564434c884888306df31b7c",
      "value": "100%"
     }
    },
    "8a0b9940572543368576020a55468bbe": {
     "model_module": "@jupyter-widgets/base",
     "model_module_version": "1.2.0",
     "model_name": "LayoutModel",
     "state": {
      "_model_module": "@jupyter-widgets/base",
      "_model_module_version": "1.2.0",
      "_model_name": "LayoutModel",
      "_view_count": null,
      "_view_module": "@jupyter-widgets/base",
      "_view_module_version": "1.2.0",
      "_view_name": "LayoutView",
      "align_content": null,
      "align_items": null,
      "align_self": null,
      "border": null,
      "bottom": null,
      "display": null,
      "flex": null,
      "flex_flow": null,
      "grid_area": null,
      "grid_auto_columns": null,
      "grid_auto_flow": null,
      "grid_auto_rows": null,
      "grid_column": null,
      "grid_gap": null,
      "grid_row": null,
      "grid_template_areas": null,
      "grid_template_columns": null,
      "grid_template_rows": null,
      "height": null,
      "justify_content": null,
      "justify_items": null,
      "left": null,
      "margin": null,
      "max_height": null,
      "max_width": null,
      "min_height": null,
      "min_width": null,
      "object_fit": null,
      "object_position": null,
      "order": null,
      "overflow": null,
      "overflow_x": null,
      "overflow_y": null,
      "padding": null,
      "right": null,
      "top": null,
      "visibility": null,
      "width": null
     }
    },
    "906c665ac43046d6956c2acff24ff027": {
     "model_module": "@jupyter-widgets/base",
     "model_module_version": "1.2.0",
     "model_name": "LayoutModel",
     "state": {
      "_model_module": "@jupyter-widgets/base",
      "_model_module_version": "1.2.0",
      "_model_name": "LayoutModel",
      "_view_count": null,
      "_view_module": "@jupyter-widgets/base",
      "_view_module_version": "1.2.0",
      "_view_name": "LayoutView",
      "align_content": null,
      "align_items": null,
      "align_self": null,
      "border": null,
      "bottom": null,
      "display": null,
      "flex": null,
      "flex_flow": null,
      "grid_area": null,
      "grid_auto_columns": null,
      "grid_auto_flow": null,
      "grid_auto_rows": null,
      "grid_column": null,
      "grid_gap": null,
      "grid_row": null,
      "grid_template_areas": null,
      "grid_template_columns": null,
      "grid_template_rows": null,
      "height": null,
      "justify_content": null,
      "justify_items": null,
      "left": null,
      "margin": null,
      "max_height": null,
      "max_width": null,
      "min_height": null,
      "min_width": null,
      "object_fit": null,
      "object_position": null,
      "order": null,
      "overflow": null,
      "overflow_x": null,
      "overflow_y": null,
      "padding": null,
      "right": null,
      "top": null,
      "visibility": null,
      "width": null
     }
    },
    "94abb61e010d4a77823e3d3f42462da5": {
     "model_module": "@jupyter-widgets/controls",
     "model_module_version": "1.5.0",
     "model_name": "HTMLModel",
     "state": {
      "_dom_classes": [],
      "_model_module": "@jupyter-widgets/controls",
      "_model_module_version": "1.5.0",
      "_model_name": "HTMLModel",
      "_view_count": null,
      "_view_module": "@jupyter-widgets/controls",
      "_view_module_version": "1.5.0",
      "_view_name": "HTMLView",
      "description": "",
      "description_tooltip": null,
      "layout": "IPY_MODEL_11983cfea3db475dac488ee00cca274b",
      "placeholder": "​",
      "style": "IPY_MODEL_3b106b13609140348b3a6116f6f05afb",
      "value": " 20000/? [00:05&lt;00:00, 3799.69ex/s]"
     }
    },
    "9a25fdac598d42b7bc25e12fcd272ec7": {
     "model_module": "@jupyter-widgets/controls",
     "model_module_version": "1.5.0",
     "model_name": "HTMLModel",
     "state": {
      "_dom_classes": [],
      "_model_module": "@jupyter-widgets/controls",
      "_model_module_version": "1.5.0",
      "_model_name": "HTMLModel",
      "_view_count": null,
      "_view_module": "@jupyter-widgets/controls",
      "_view_module_version": "1.5.0",
      "_view_name": "HTMLView",
      "description": "",
      "description_tooltip": null,
      "layout": "IPY_MODEL_8a0b9940572543368576020a55468bbe",
      "placeholder": "​",
      "style": "IPY_MODEL_03659db4e020431a9d655f0186cb3d4f",
      "value": ""
     }
    },
    "9d9caac911b7458696e16cfa68d8e8ce": {
     "model_module": "@jupyter-widgets/controls",
     "model_module_version": "1.5.0",
     "model_name": "DescriptionStyleModel",
     "state": {
      "_model_module": "@jupyter-widgets/controls",
      "_model_module_version": "1.5.0",
      "_model_name": "DescriptionStyleModel",
      "_view_count": null,
      "_view_module": "@jupyter-widgets/base",
      "_view_module_version": "1.2.0",
      "_view_name": "StyleView",
      "description_width": ""
     }
    },
    "adf819703627459c925198f0e5efb1e8": {
     "model_module": "@jupyter-widgets/controls",
     "model_module_version": "1.5.0",
     "model_name": "DescriptionStyleModel",
     "state": {
      "_model_module": "@jupyter-widgets/controls",
      "_model_module_version": "1.5.0",
      "_model_name": "DescriptionStyleModel",
      "_view_count": null,
      "_view_module": "@jupyter-widgets/base",
      "_view_module_version": "1.2.0",
      "_view_name": "StyleView",
      "description_width": ""
     }
    },
    "b448f090741140dd9ce9377e83a8a9ff": {
     "model_module": "@jupyter-widgets/controls",
     "model_module_version": "1.5.0",
     "model_name": "FloatProgressModel",
     "state": {
      "_dom_classes": [],
      "_model_module": "@jupyter-widgets/controls",
      "_model_module_version": "1.5.0",
      "_model_name": "FloatProgressModel",
      "_view_count": null,
      "_view_module": "@jupyter-widgets/controls",
      "_view_module_version": "1.5.0",
      "_view_name": "ProgressView",
      "bar_style": "info",
      "description": "",
      "description_tooltip": null,
      "layout": "IPY_MODEL_ff1ec15d2b3e4333861f31224de6f2b1",
      "max": 1,
      "min": 0,
      "orientation": "horizontal",
      "style": "IPY_MODEL_fdf57e5c41fc462592c6dd90e2449e52",
      "value": 1
     }
    },
    "b6e38dd77aec4d1ba8eb8e0cc266ebcb": {
     "model_module": "@jupyter-widgets/controls",
     "model_module_version": "1.5.0",
     "model_name": "HTMLModel",
     "state": {
      "_dom_classes": [],
      "_model_module": "@jupyter-widgets/controls",
      "_model_module_version": "1.5.0",
      "_model_name": "HTMLModel",
      "_view_count": null,
      "_view_module": "@jupyter-widgets/controls",
      "_view_module_version": "1.5.0",
      "_view_name": "HTMLView",
      "description": "",
      "description_tooltip": null,
      "layout": "IPY_MODEL_4f2d0f4874a14eba97dd3333785c92c0",
      "placeholder": "​",
      "style": "IPY_MODEL_bb4a3485fdfd4da4b8577f9ccd74ba8c",
      "value": ""
     }
    },
    "bb4a3485fdfd4da4b8577f9ccd74ba8c": {
     "model_module": "@jupyter-widgets/controls",
     "model_module_version": "1.5.0",
     "model_name": "DescriptionStyleModel",
     "state": {
      "_model_module": "@jupyter-widgets/controls",
      "_model_module_version": "1.5.0",
      "_model_name": "DescriptionStyleModel",
      "_view_count": null,
      "_view_module": "@jupyter-widgets/base",
      "_view_module_version": "1.2.0",
      "_view_name": "StyleView",
      "description_width": ""
     }
    },
    "c2e19bde01fc48eda92883d3374869da": {
     "model_module": "@jupyter-widgets/controls",
     "model_module_version": "1.5.0",
     "model_name": "HBoxModel",
     "state": {
      "_dom_classes": [],
      "_model_module": "@jupyter-widgets/controls",
      "_model_module_version": "1.5.0",
      "_model_name": "HBoxModel",
      "_view_count": null,
      "_view_module": "@jupyter-widgets/controls",
      "_view_module_version": "1.5.0",
      "_view_name": "HBoxView",
      "box_style": "",
      "children": [
       "IPY_MODEL_9a25fdac598d42b7bc25e12fcd272ec7",
       "IPY_MODEL_b448f090741140dd9ce9377e83a8a9ff",
       "IPY_MODEL_45becdd1d4b94b728fddadf5ea10be75"
      ],
      "layout": "IPY_MODEL_81af08ea2e4f46aa98ea349508e5f29a"
     }
    },
    "c2e64be2d24b4cd99e51ad687d6988ae": {
     "model_module": "@jupyter-widgets/controls",
     "model_module_version": "1.5.0",
     "model_name": "HBoxModel",
     "state": {
      "_dom_classes": [],
      "_model_module": "@jupyter-widgets/controls",
      "_model_module_version": "1.5.0",
      "_model_name": "HBoxModel",
      "_view_count": null,
      "_view_module": "@jupyter-widgets/controls",
      "_view_module_version": "1.5.0",
      "_view_name": "HBoxView",
      "box_style": "",
      "children": [
       "IPY_MODEL_b6e38dd77aec4d1ba8eb8e0cc266ebcb",
       "IPY_MODEL_ebce7cdb711f41938f44615710ca4f4c",
       "IPY_MODEL_94abb61e010d4a77823e3d3f42462da5"
      ],
      "layout": "IPY_MODEL_42c28b97c1b448059c90a1e02facaee7"
     }
    },
    "e7b5fd96575e4660aa43ef25682fdcc4": {
     "model_module": "@jupyter-widgets/base",
     "model_module_version": "1.2.0",
     "model_name": "LayoutModel",
     "state": {
      "_model_module": "@jupyter-widgets/base",
      "_model_module_version": "1.2.0",
      "_model_name": "LayoutModel",
      "_view_count": null,
      "_view_module": "@jupyter-widgets/base",
      "_view_module_version": "1.2.0",
      "_view_name": "LayoutView",
      "align_content": null,
      "align_items": null,
      "align_self": null,
      "border": null,
      "bottom": null,
      "display": null,
      "flex": null,
      "flex_flow": null,
      "grid_area": null,
      "grid_auto_columns": null,
      "grid_auto_flow": null,
      "grid_auto_rows": null,
      "grid_column": null,
      "grid_gap": null,
      "grid_row": null,
      "grid_template_areas": null,
      "grid_template_columns": null,
      "grid_template_rows": null,
      "height": null,
      "justify_content": null,
      "justify_items": null,
      "left": null,
      "margin": null,
      "max_height": null,
      "max_width": null,
      "min_height": null,
      "min_width": null,
      "object_fit": null,
      "object_position": null,
      "order": null,
      "overflow": null,
      "overflow_x": null,
      "overflow_y": null,
      "padding": null,
      "right": null,
      "top": null,
      "visibility": null,
      "width": null
     }
    },
    "ebce7cdb711f41938f44615710ca4f4c": {
     "model_module": "@jupyter-widgets/controls",
     "model_module_version": "1.5.0",
     "model_name": "FloatProgressModel",
     "state": {
      "_dom_classes": [],
      "_model_module": "@jupyter-widgets/controls",
      "_model_module_version": "1.5.0",
      "_model_name": "FloatProgressModel",
      "_view_count": null,
      "_view_module": "@jupyter-widgets/controls",
      "_view_module_version": "1.5.0",
      "_view_name": "ProgressView",
      "bar_style": "success",
      "description": "",
      "description_tooltip": null,
      "layout": "IPY_MODEL_46fb8e9c516c417ea23a5877cee5826c",
      "max": 1,
      "min": 0,
      "orientation": "horizontal",
      "style": "IPY_MODEL_26b41833a44b49c8af2ea95b40c1eade",
      "value": 1
     }
    },
    "fb95e74bb92941d090d650aee1b5cc2d": {
     "model_module": "@jupyter-widgets/controls",
     "model_module_version": "1.5.0",
     "model_name": "FloatProgressModel",
     "state": {
      "_dom_classes": [],
      "_model_module": "@jupyter-widgets/controls",
      "_model_module_version": "1.5.0",
      "_model_name": "FloatProgressModel",
      "_view_count": null,
      "_view_module": "@jupyter-widgets/controls",
      "_view_module_version": "1.5.0",
      "_view_name": "ProgressView",
      "bar_style": "success",
      "description": "",
      "description_tooltip": null,
      "layout": "IPY_MODEL_906c665ac43046d6956c2acff24ff027",
      "max": 10,
      "min": 0,
      "orientation": "horizontal",
      "style": "IPY_MODEL_09d6542bc3fc44f39c05897ceaaae6c3",
      "value": 10
     }
    },
    "fdf57e5c41fc462592c6dd90e2449e52": {
     "model_module": "@jupyter-widgets/controls",
     "model_module_version": "1.5.0",
     "model_name": "ProgressStyleModel",
     "state": {
      "_model_module": "@jupyter-widgets/controls",
      "_model_module_version": "1.5.0",
      "_model_name": "ProgressStyleModel",
      "_view_count": null,
      "_view_module": "@jupyter-widgets/base",
      "_view_module_version": "1.2.0",
      "_view_name": "StyleView",
      "bar_color": null,
      "description_width": ""
     }
    },
    "ff1ec15d2b3e4333861f31224de6f2b1": {
     "model_module": "@jupyter-widgets/base",
     "model_module_version": "1.2.0",
     "model_name": "LayoutModel",
     "state": {
      "_model_module": "@jupyter-widgets/base",
      "_model_module_version": "1.2.0",
      "_model_name": "LayoutModel",
      "_view_count": null,
      "_view_module": "@jupyter-widgets/base",
      "_view_module_version": "1.2.0",
      "_view_name": "LayoutView",
      "align_content": null,
      "align_items": null,
      "align_self": null,
      "border": null,
      "bottom": null,
      "display": null,
      "flex": null,
      "flex_flow": null,
      "grid_area": null,
      "grid_auto_columns": null,
      "grid_auto_flow": null,
      "grid_auto_rows": null,
      "grid_column": null,
      "grid_gap": null,
      "grid_row": null,
      "grid_template_areas": null,
      "grid_template_columns": null,
      "grid_template_rows": null,
      "height": null,
      "justify_content": null,
      "justify_items": null,
      "left": null,
      "margin": null,
      "max_height": null,
      "max_width": null,
      "min_height": null,
      "min_width": null,
      "object_fit": null,
      "object_position": null,
      "order": null,
      "overflow": null,
      "overflow_x": null,
      "overflow_y": null,
      "padding": null,
      "right": null,
      "top": null,
      "visibility": null,
      "width": "20px"
     }
    },
    "ffbadf718fbb49edbe36e33b775ec24a": {
     "model_module": "@jupyter-widgets/base",
     "model_module_version": "1.2.0",
     "model_name": "LayoutModel",
     "state": {
      "_model_module": "@jupyter-widgets/base",
      "_model_module_version": "1.2.0",
      "_model_name": "LayoutModel",
      "_view_count": null,
      "_view_module": "@jupyter-widgets/base",
      "_view_module_version": "1.2.0",
      "_view_name": "LayoutView",
      "align_content": null,
      "align_items": null,
      "align_self": null,
      "border": null,
      "bottom": null,
      "display": null,
      "flex": null,
      "flex_flow": null,
      "grid_area": null,
      "grid_auto_columns": null,
      "grid_auto_flow": null,
      "grid_auto_rows": null,
      "grid_column": null,
      "grid_gap": null,
      "grid_row": null,
      "grid_template_areas": null,
      "grid_template_columns": null,
      "grid_template_rows": null,
      "height": null,
      "justify_content": null,
      "justify_items": null,
      "left": null,
      "margin": null,
      "max_height": null,
      "max_width": null,
      "min_height": null,
      "min_width": null,
      "object_fit": null,
      "object_position": null,
      "order": null,
      "overflow": null,
      "overflow_x": null,
      "overflow_y": null,
      "padding": null,
      "right": null,
      "top": null,
      "visibility": null,
      "width": null
     }
    }
   }
  }
 },
 "nbformat": 4,
 "nbformat_minor": 1
}
